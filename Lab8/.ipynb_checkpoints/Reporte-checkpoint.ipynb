{
 "cells": [
  {
   "cell_type": "markdown",
   "id": "088ce5a8",
   "metadata": {},
   "source": [
    "#### Cruz del Cid - 20200494"
   ]
  },
  {
   "cell_type": "markdown",
   "id": "7a7f2096",
   "metadata": {},
   "source": [
    "## Librerias"
   ]
  },
  {
   "cell_type": "code",
   "execution_count": 1,
   "id": "2c6aa397",
   "metadata": {},
   "outputs": [],
   "source": [
    "import numpy as np\n",
    "import pandas as pd"
   ]
  },
  {
   "cell_type": "markdown",
   "id": "4f5fb8af",
   "metadata": {},
   "source": [
    "## Importación de data"
   ]
  },
  {
   "cell_type": "code",
   "execution_count": 2,
   "id": "f9f58717",
   "metadata": {},
   "outputs": [],
   "source": [
    "titanic_md = pd.read_csv('titanic_md.csv')\n",
    "titanic = pd.read_csv('titanic.csv')"
   ]
  },
  {
   "cell_type": "markdown",
   "id": "c72c2b3b",
   "metadata": {},
   "source": [
    "## Visualización de la data"
   ]
  },
  {
   "cell_type": "code",
   "execution_count": 3,
   "id": "a94f2837",
   "metadata": {},
   "outputs": [
    {
     "name": "stdout",
     "output_type": "stream",
     "text": [
      "Titanic modificado: (183, 12)\n",
      "Titanic normal: (183, 12)\n"
     ]
    }
   ],
   "source": [
    "print('Titanic modificado:', titanic_md.shape)\n",
    "print('Titanic normal:', titanic.shape)"
   ]
  },
  {
   "cell_type": "code",
   "execution_count": 4,
   "id": "f26a9f11",
   "metadata": {},
   "outputs": [
    {
     "data": {
      "text/html": [
       "<div>\n",
       "<style scoped>\n",
       "    .dataframe tbody tr th:only-of-type {\n",
       "        vertical-align: middle;\n",
       "    }\n",
       "\n",
       "    .dataframe tbody tr th {\n",
       "        vertical-align: top;\n",
       "    }\n",
       "\n",
       "    .dataframe thead th {\n",
       "        text-align: right;\n",
       "    }\n",
       "</style>\n",
       "<table border=\"1\" class=\"dataframe\">\n",
       "  <thead>\n",
       "    <tr style=\"text-align: right;\">\n",
       "      <th></th>\n",
       "      <th>PassengerId</th>\n",
       "      <th>Survived</th>\n",
       "      <th>Pclass</th>\n",
       "      <th>Name</th>\n",
       "      <th>Sex</th>\n",
       "      <th>Age</th>\n",
       "      <th>SibSp</th>\n",
       "      <th>Parch</th>\n",
       "      <th>Ticket</th>\n",
       "      <th>Fare</th>\n",
       "      <th>Cabin</th>\n",
       "      <th>Embarked</th>\n",
       "    </tr>\n",
       "  </thead>\n",
       "  <tbody>\n",
       "    <tr>\n",
       "      <th>0</th>\n",
       "      <td>2</td>\n",
       "      <td>1</td>\n",
       "      <td>1</td>\n",
       "      <td>Cumings, Mrs. John Bradley (Florence Briggs Th...</td>\n",
       "      <td>?</td>\n",
       "      <td>38.0</td>\n",
       "      <td>1.0</td>\n",
       "      <td>0.0</td>\n",
       "      <td>PC 17599</td>\n",
       "      <td>71.2833</td>\n",
       "      <td>C85</td>\n",
       "      <td>C</td>\n",
       "    </tr>\n",
       "    <tr>\n",
       "      <th>1</th>\n",
       "      <td>4</td>\n",
       "      <td>1</td>\n",
       "      <td>1</td>\n",
       "      <td>Futrelle, Mrs. Jacques Heath (Lily May Peel)</td>\n",
       "      <td>female</td>\n",
       "      <td>35.0</td>\n",
       "      <td>1.0</td>\n",
       "      <td>0.0</td>\n",
       "      <td>113803</td>\n",
       "      <td>53.1000</td>\n",
       "      <td>C123</td>\n",
       "      <td>S</td>\n",
       "    </tr>\n",
       "    <tr>\n",
       "      <th>2</th>\n",
       "      <td>7</td>\n",
       "      <td>0</td>\n",
       "      <td>1</td>\n",
       "      <td>McCarthy, Mr. Timothy J</td>\n",
       "      <td>male</td>\n",
       "      <td>54.0</td>\n",
       "      <td>0.0</td>\n",
       "      <td>0.0</td>\n",
       "      <td>17463</td>\n",
       "      <td>51.8625</td>\n",
       "      <td>E46</td>\n",
       "      <td>S</td>\n",
       "    </tr>\n",
       "    <tr>\n",
       "      <th>3</th>\n",
       "      <td>11</td>\n",
       "      <td>1</td>\n",
       "      <td>3</td>\n",
       "      <td>Sandstrom, Miss. Marguerite Rut</td>\n",
       "      <td>female</td>\n",
       "      <td>NaN</td>\n",
       "      <td>1.0</td>\n",
       "      <td>NaN</td>\n",
       "      <td>PP 9549</td>\n",
       "      <td>16.7000</td>\n",
       "      <td>G6</td>\n",
       "      <td>S</td>\n",
       "    </tr>\n",
       "    <tr>\n",
       "      <th>4</th>\n",
       "      <td>12</td>\n",
       "      <td>1</td>\n",
       "      <td>1</td>\n",
       "      <td>Bonnell, Miss. Elizabeth</td>\n",
       "      <td>female</td>\n",
       "      <td>58.0</td>\n",
       "      <td>NaN</td>\n",
       "      <td>0.0</td>\n",
       "      <td>113783</td>\n",
       "      <td>26.5500</td>\n",
       "      <td>C103</td>\n",
       "      <td>S</td>\n",
       "    </tr>\n",
       "  </tbody>\n",
       "</table>\n",
       "</div>"
      ],
      "text/plain": [
       "   PassengerId  Survived  Pclass  \\\n",
       "0            2         1       1   \n",
       "1            4         1       1   \n",
       "2            7         0       1   \n",
       "3           11         1       3   \n",
       "4           12         1       1   \n",
       "\n",
       "                                                Name     Sex   Age  SibSp  \\\n",
       "0  Cumings, Mrs. John Bradley (Florence Briggs Th...       ?  38.0    1.0   \n",
       "1       Futrelle, Mrs. Jacques Heath (Lily May Peel)  female  35.0    1.0   \n",
       "2                            McCarthy, Mr. Timothy J    male  54.0    0.0   \n",
       "3                    Sandstrom, Miss. Marguerite Rut  female   NaN    1.0   \n",
       "4                           Bonnell, Miss. Elizabeth  female  58.0    NaN   \n",
       "\n",
       "   Parch    Ticket     Fare Cabin Embarked  \n",
       "0    0.0  PC 17599  71.2833   C85        C  \n",
       "1    0.0    113803  53.1000  C123        S  \n",
       "2    0.0     17463  51.8625   E46        S  \n",
       "3    NaN   PP 9549  16.7000    G6        S  \n",
       "4    0.0    113783  26.5500  C103        S  "
      ]
     },
     "execution_count": 4,
     "metadata": {},
     "output_type": "execute_result"
    }
   ],
   "source": [
    "titanic_md.head()"
   ]
  },
  {
   "cell_type": "code",
   "execution_count": 5,
   "id": "ac50b5fd",
   "metadata": {},
   "outputs": [
    {
     "data": {
      "text/html": [
       "<div>\n",
       "<style scoped>\n",
       "    .dataframe tbody tr th:only-of-type {\n",
       "        vertical-align: middle;\n",
       "    }\n",
       "\n",
       "    .dataframe tbody tr th {\n",
       "        vertical-align: top;\n",
       "    }\n",
       "\n",
       "    .dataframe thead th {\n",
       "        text-align: right;\n",
       "    }\n",
       "</style>\n",
       "<table border=\"1\" class=\"dataframe\">\n",
       "  <thead>\n",
       "    <tr style=\"text-align: right;\">\n",
       "      <th></th>\n",
       "      <th>PassengerId</th>\n",
       "      <th>Survived</th>\n",
       "      <th>Pclass</th>\n",
       "      <th>Age</th>\n",
       "      <th>SibSp</th>\n",
       "      <th>Parch</th>\n",
       "      <th>Fare</th>\n",
       "    </tr>\n",
       "  </thead>\n",
       "  <tbody>\n",
       "    <tr>\n",
       "      <th>count</th>\n",
       "      <td>183.000000</td>\n",
       "      <td>183.000000</td>\n",
       "      <td>183.000000</td>\n",
       "      <td>158.000000</td>\n",
       "      <td>180.000000</td>\n",
       "      <td>171.000000</td>\n",
       "      <td>175.000000</td>\n",
       "    </tr>\n",
       "    <tr>\n",
       "      <th>mean</th>\n",
       "      <td>455.366120</td>\n",
       "      <td>0.672131</td>\n",
       "      <td>1.191257</td>\n",
       "      <td>35.692532</td>\n",
       "      <td>0.461111</td>\n",
       "      <td>0.461988</td>\n",
       "      <td>78.959191</td>\n",
       "    </tr>\n",
       "    <tr>\n",
       "      <th>std</th>\n",
       "      <td>247.052476</td>\n",
       "      <td>0.470725</td>\n",
       "      <td>0.515187</td>\n",
       "      <td>15.640858</td>\n",
       "      <td>0.646122</td>\n",
       "      <td>0.753435</td>\n",
       "      <td>77.026328</td>\n",
       "    </tr>\n",
       "    <tr>\n",
       "      <th>min</th>\n",
       "      <td>2.000000</td>\n",
       "      <td>0.000000</td>\n",
       "      <td>1.000000</td>\n",
       "      <td>0.920000</td>\n",
       "      <td>0.000000</td>\n",
       "      <td>0.000000</td>\n",
       "      <td>0.000000</td>\n",
       "    </tr>\n",
       "    <tr>\n",
       "      <th>25%</th>\n",
       "      <td>263.500000</td>\n",
       "      <td>0.000000</td>\n",
       "      <td>1.000000</td>\n",
       "      <td>24.000000</td>\n",
       "      <td>0.000000</td>\n",
       "      <td>0.000000</td>\n",
       "      <td>29.700000</td>\n",
       "    </tr>\n",
       "    <tr>\n",
       "      <th>50%</th>\n",
       "      <td>457.000000</td>\n",
       "      <td>1.000000</td>\n",
       "      <td>1.000000</td>\n",
       "      <td>35.500000</td>\n",
       "      <td>0.000000</td>\n",
       "      <td>0.000000</td>\n",
       "      <td>56.929200</td>\n",
       "    </tr>\n",
       "    <tr>\n",
       "      <th>75%</th>\n",
       "      <td>676.000000</td>\n",
       "      <td>1.000000</td>\n",
       "      <td>1.000000</td>\n",
       "      <td>48.000000</td>\n",
       "      <td>1.000000</td>\n",
       "      <td>1.000000</td>\n",
       "      <td>90.539600</td>\n",
       "    </tr>\n",
       "    <tr>\n",
       "      <th>max</th>\n",
       "      <td>890.000000</td>\n",
       "      <td>1.000000</td>\n",
       "      <td>3.000000</td>\n",
       "      <td>80.000000</td>\n",
       "      <td>3.000000</td>\n",
       "      <td>4.000000</td>\n",
       "      <td>512.329200</td>\n",
       "    </tr>\n",
       "  </tbody>\n",
       "</table>\n",
       "</div>"
      ],
      "text/plain": [
       "       PassengerId    Survived      Pclass         Age       SibSp  \\\n",
       "count   183.000000  183.000000  183.000000  158.000000  180.000000   \n",
       "mean    455.366120    0.672131    1.191257   35.692532    0.461111   \n",
       "std     247.052476    0.470725    0.515187   15.640858    0.646122   \n",
       "min       2.000000    0.000000    1.000000    0.920000    0.000000   \n",
       "25%     263.500000    0.000000    1.000000   24.000000    0.000000   \n",
       "50%     457.000000    1.000000    1.000000   35.500000    0.000000   \n",
       "75%     676.000000    1.000000    1.000000   48.000000    1.000000   \n",
       "max     890.000000    1.000000    3.000000   80.000000    3.000000   \n",
       "\n",
       "            Parch        Fare  \n",
       "count  171.000000  175.000000  \n",
       "mean     0.461988   78.959191  \n",
       "std      0.753435   77.026328  \n",
       "min      0.000000    0.000000  \n",
       "25%      0.000000   29.700000  \n",
       "50%      0.000000   56.929200  \n",
       "75%      1.000000   90.539600  \n",
       "max      4.000000  512.329200  "
      ]
     },
     "execution_count": 5,
     "metadata": {},
     "output_type": "execute_result"
    }
   ],
   "source": [
    "titanic_md.describe()"
   ]
  },
  {
   "cell_type": "markdown",
   "id": "8a03feb3",
   "metadata": {},
   "source": [
    "### Descripción de cada columna \n",
    "- PassengerId: es la identificación unica de cada pasajero. \n",
    "- Survived: ¿Sobrevivió? (0 = No; 1 = Sí)\n",
    "- Pclass: clase a la que pertece cada pasajero (1 = 1st; 2 = 2nd; 3 = 3rd)\n",
    "- Name: Nombre\n",
    "- Sex: Sexo \n",
    "- Age: Edad al momento del accidente\n",
    "- Sibsp: Número de hermanos y pareja abordo\n",
    "- Parch: Número de parientes e hijos que estaban abordo\n",
    "- Ticket: Numero del ticket\n",
    "- Fare: Tarifa que pago el pasajero por su ticket\n",
    "- Cabin: Identificación de su cabina \n",
    "- Embarked: Puerto donde embarcó (C = Cherbourg; Q = Queenstown; S = Southampton)"
   ]
  },
  {
   "cell_type": "markdown",
   "id": "32595254",
   "metadata": {},
   "source": [
    "# PARTE 1"
   ]
  },
  {
   "cell_type": "markdown",
   "id": "b923dd05",
   "metadata": {},
   "source": [
    "## 1. Datos faltantes por columna"
   ]
  },
  {
   "cell_type": "code",
   "execution_count": 6,
   "id": "32c85cf8",
   "metadata": {},
   "outputs": [
    {
     "data": {
      "text/plain": [
       "PassengerId     0\n",
       "Survived        0\n",
       "Pclass          0\n",
       "Name            0\n",
       "Sex             0\n",
       "Age            25\n",
       "SibSp           3\n",
       "Parch          12\n",
       "Ticket          0\n",
       "Fare            8\n",
       "Cabin           0\n",
       "Embarked       12\n",
       "dtype: int64"
      ]
     },
     "execution_count": 6,
     "metadata": {},
     "output_type": "execute_result"
    }
   ],
   "source": [
    "## Busqueda de NA's\n",
    "\n",
    "titanic_md.isna().sum() "
   ]
  },
  {
   "cell_type": "markdown",
   "id": "ffa152ed",
   "metadata": {},
   "source": [
    "### Busqueda de datos faltantes que no son NA's"
   ]
  },
  {
   "cell_type": "markdown",
   "id": "3fb5f71f",
   "metadata": {},
   "source": [
    "##### Se excluyeron las columnas PASSENGERID, NAME, TICKET  y CABIN de la exploración porque son solo valores de identificación. Solo diferencian un pasajero de otro. No son de valor para predecir una persona sobrevivió o no porque no muestran características. "
   ]
  },
  {
   "cell_type": "code",
   "execution_count": 7,
   "id": "2267032a",
   "metadata": {},
   "outputs": [
    {
     "data": {
      "text/plain": [
       "array([0, 1], dtype=int64)"
      ]
     },
     "execution_count": 7,
     "metadata": {},
     "output_type": "execute_result"
    }
   ],
   "source": [
    "np.unique(titanic_md['Survived'])"
   ]
  },
  {
   "cell_type": "code",
   "execution_count": 8,
   "id": "86a35d0f",
   "metadata": {},
   "outputs": [
    {
     "data": {
      "text/plain": [
       "array([1, 2, 3], dtype=int64)"
      ]
     },
     "execution_count": 8,
     "metadata": {},
     "output_type": "execute_result"
    }
   ],
   "source": [
    "np.unique(titanic_md['Pclass'])"
   ]
  },
  {
   "cell_type": "code",
   "execution_count": 9,
   "id": "82a7a759",
   "metadata": {},
   "outputs": [
    {
     "data": {
      "text/plain": [
       "array(['?', 'female', 'male'], dtype=object)"
      ]
     },
     "execution_count": 9,
     "metadata": {},
     "output_type": "execute_result"
    }
   ],
   "source": [
    "np.unique(titanic_md['Sex'])"
   ]
  },
  {
   "cell_type": "code",
   "execution_count": 10,
   "id": "9cfe2f29",
   "metadata": {},
   "outputs": [
    {
     "data": {
      "text/plain": [
       "array([ 0.92,  2.  ,  3.  ,  4.  ,  6.  , 11.  , 14.  , 15.  , 16.  ,\n",
       "       17.  , 18.  , 19.  , 21.  , 22.  , 23.  , 24.  , 25.  , 27.  ,\n",
       "       28.  , 29.  , 30.  , 31.  , 32.  , 33.  , 34.  , 35.  , 36.  ,\n",
       "       36.5 , 37.  , 38.  , 39.  , 40.  , 41.  , 42.  , 43.  , 44.  ,\n",
       "       45.  , 46.  , 47.  , 48.  , 49.  , 50.  , 51.  , 52.  , 53.  ,\n",
       "       54.  , 55.  , 56.  , 58.  , 60.  , 61.  , 62.  , 63.  , 64.  ,\n",
       "       65.  , 70.  , 71.  , 80.  ,   nan])"
      ]
     },
     "execution_count": 10,
     "metadata": {},
     "output_type": "execute_result"
    }
   ],
   "source": [
    "np.unique(titanic_md['Age'])"
   ]
  },
  {
   "cell_type": "code",
   "execution_count": 11,
   "id": "8e01f4f1",
   "metadata": {},
   "outputs": [
    {
     "data": {
      "text/plain": [
       "array([ 0.,  1.,  2.,  3., nan])"
      ]
     },
     "execution_count": 11,
     "metadata": {},
     "output_type": "execute_result"
    }
   ],
   "source": [
    "np.unique(titanic_md['SibSp'])"
   ]
  },
  {
   "cell_type": "code",
   "execution_count": 12,
   "id": "e3d144c6",
   "metadata": {},
   "outputs": [
    {
     "data": {
      "text/plain": [
       "array([ 0.,  1.,  2.,  4., nan])"
      ]
     },
     "execution_count": 12,
     "metadata": {},
     "output_type": "execute_result"
    }
   ],
   "source": [
    "np.unique(titanic_md['Parch'])"
   ]
  },
  {
   "cell_type": "code",
   "execution_count": 13,
   "id": "d884176d",
   "metadata": {},
   "outputs": [
    {
     "data": {
      "text/plain": [
       "array([  0.    ,   5.    ,   7.65  ,   8.05  ,  10.4625,  10.5   ,\n",
       "        12.475 ,  12.875 ,  13.    ,  13.7917,  16.7   ,  25.5875,\n",
       "        25.9292,  26.    ,  26.2833,  26.2875,  26.3875,  26.55  ,\n",
       "        27.7208,  27.75  ,  28.5   ,  28.7125,  29.7   ,  30.    ,\n",
       "        30.5   ,  30.6958,  31.    ,  32.3208,  33.5   ,  34.0208,\n",
       "        34.6542,  35.5   ,  38.5   ,  39.    ,  39.4   ,  39.6   ,\n",
       "        40.125 ,  49.5   ,  49.5042,  50.4958,  51.4792,  51.8625,\n",
       "        52.    ,  52.5542,  53.1   ,  55.    ,  55.4417,  55.9   ,\n",
       "        56.9292,  57.    ,  57.9792,  61.175 ,  61.9792,  63.3583,\n",
       "        66.6   ,  69.3   ,  71.    ,  71.2833,  75.25  ,  76.7292,\n",
       "        77.2875,  77.9583,  78.2667,  78.85  ,  79.2   ,  79.65  ,\n",
       "        81.8583,  83.1583,  83.475 ,  86.5   ,  89.1042,  90.    ,\n",
       "        91.0792,  93.5   , 106.425 , 108.9   , 110.8833, 113.275 ,\n",
       "       120.    , 134.5   , 135.6333, 146.5208, 151.55  , 153.4625,\n",
       "       164.8667, 211.3375, 211.5   , 227.525 , 247.5208, 262.375 ,\n",
       "       263.    , 512.3292,      nan])"
      ]
     },
     "execution_count": 13,
     "metadata": {},
     "output_type": "execute_result"
    }
   ],
   "source": [
    "np.unique(titanic_md['Fare'])"
   ]
  },
  {
   "cell_type": "code",
   "execution_count": 14,
   "id": "6f1df71f",
   "metadata": {},
   "outputs": [
    {
     "data": {
      "text/plain": [
       "array(['C', 'S', nan, 'Q'], dtype=object)"
      ]
     },
     "execution_count": 14,
     "metadata": {},
     "output_type": "execute_result"
    }
   ],
   "source": [
    "titanic_md['Embarked'].unique()"
   ]
  },
  {
   "cell_type": "markdown",
   "id": "a4bab6a4",
   "metadata": {},
   "source": [
    "### Se encontró que la columna Sex contiene un valor faltante identificado con \"?\" el valor se reemplazará por NA "
   ]
  },
  {
   "cell_type": "code",
   "execution_count": 15,
   "id": "c772cf69",
   "metadata": {},
   "outputs": [
    {
     "data": {
      "text/html": [
       "<div>\n",
       "<style scoped>\n",
       "    .dataframe tbody tr th:only-of-type {\n",
       "        vertical-align: middle;\n",
       "    }\n",
       "\n",
       "    .dataframe tbody tr th {\n",
       "        vertical-align: top;\n",
       "    }\n",
       "\n",
       "    .dataframe thead th {\n",
       "        text-align: right;\n",
       "    }\n",
       "</style>\n",
       "<table border=\"1\" class=\"dataframe\">\n",
       "  <thead>\n",
       "    <tr style=\"text-align: right;\">\n",
       "      <th></th>\n",
       "      <th>cols</th>\n",
       "      <th>val</th>\n",
       "    </tr>\n",
       "  </thead>\n",
       "  <tbody>\n",
       "    <tr>\n",
       "      <th>0</th>\n",
       "      <td>Name</td>\n",
       "      <td>0</td>\n",
       "    </tr>\n",
       "    <tr>\n",
       "      <th>1</th>\n",
       "      <td>Sex</td>\n",
       "      <td>51</td>\n",
       "    </tr>\n",
       "    <tr>\n",
       "      <th>2</th>\n",
       "      <td>Ticket</td>\n",
       "      <td>0</td>\n",
       "    </tr>\n",
       "    <tr>\n",
       "      <th>3</th>\n",
       "      <td>Cabin</td>\n",
       "      <td>0</td>\n",
       "    </tr>\n",
       "    <tr>\n",
       "      <th>4</th>\n",
       "      <td>Embarked</td>\n",
       "      <td>0</td>\n",
       "    </tr>\n",
       "  </tbody>\n",
       "</table>\n",
       "</div>"
      ],
      "text/plain": [
       "       cols  val\n",
       "0      Name    0\n",
       "1       Sex   51\n",
       "2    Ticket    0\n",
       "3     Cabin    0\n",
       "4  Embarked    0"
      ]
     },
     "execution_count": 15,
     "metadata": {},
     "output_type": "execute_result"
    }
   ],
   "source": [
    "cols = []\n",
    "val = []\n",
    "for col in titanic_md.select_dtypes(include='object').columns:\n",
    "    cols.append(col)\n",
    "    val.append(titanic_md[col].str.contains(r'\\?').sum())\n",
    "pd.DataFrame({\n",
    "    'cols':cols,\n",
    "    'val':val\n",
    "})"
   ]
  },
  {
   "cell_type": "code",
   "execution_count": 16,
   "id": "f4ce1fd4",
   "metadata": {},
   "outputs": [],
   "source": [
    "titanic_md.replace(r'\\?', np.nan, regex = True, inplace = True)"
   ]
  },
  {
   "cell_type": "code",
   "execution_count": 17,
   "id": "40506476",
   "metadata": {},
   "outputs": [
    {
     "data": {
      "text/plain": [
       "PassengerId     0\n",
       "Survived        0\n",
       "Pclass          0\n",
       "Name            0\n",
       "Sex            51\n",
       "Age            25\n",
       "SibSp           3\n",
       "Parch          12\n",
       "Ticket          0\n",
       "Fare            8\n",
       "Cabin           0\n",
       "Embarked       12\n",
       "dtype: int64"
      ]
     },
     "execution_count": 17,
     "metadata": {},
     "output_type": "execute_result"
    }
   ],
   "source": [
    "# Busqueda de NA's\n",
    "titanic_md.isna().sum() "
   ]
  },
  {
   "cell_type": "markdown",
   "id": "7d2e23d8",
   "metadata": {},
   "source": [
    "### Survived y Pclass están completas. Las columnas Sex, Age, SibSp, Parch , Fare y Embarked presentan data faltante.  "
   ]
  },
  {
   "cell_type": "markdown",
   "id": "ba76ee97",
   "metadata": {},
   "source": [
    "## 2. Tipo de imputación para cada columna"
   ]
  },
  {
   "cell_type": "markdown",
   "id": "5ad55501",
   "metadata": {},
   "source": [
    "##### Sex (string): utilizaré moda sectorizada por Pclass y Survived, porque tiene una cantidad de valores perdidos grande, casi un tercio de las obervaciones. Con la moda sectorizada se tratará de no modificar mucho la distribución de la data.\n",
    "\n",
    "##### Age (numerico): utilizaré regresion lineal con Pclass y Survived y Sex como exogenas, porque de esa forma podría llegar a una edad más precisa con base en el resto de información. \n",
    "\n",
    "##### SibSp (numerico): utilizaré la media, porque contiene pocos datos faltantes (solo 3) y eso no afectará mucho la distribución de los datos. \n",
    "\n",
    "##### Parch (numerico): utilizaré la media sectorizada por Pclass, porque siento que la distribución de familiares por clase puede cambiar y de esa forma no se alterará la distribución de los datos. \n",
    "\n",
    "##### Fare (numerico): utilizaré la mediana sectorizada por Pclass y Survived, porque existe mucha diferencia entre los boletos, por lo tanto, otros métodos como la media simple cambiarían la distribución hacia los precios más caros. \n",
    "\n",
    "##### Embarked (String): utilizaré la moda, porque es posible que esos 12 valores faltantes hayan sido del mismo puerto, del puerto donde abordó más gente. "
   ]
  },
  {
   "cell_type": "markdown",
   "id": "fe6bc2a1",
   "metadata": {},
   "source": [
    "## 3. Cantidad de filas completas"
   ]
  },
  {
   "cell_type": "code",
   "execution_count": 18,
   "id": "a564dd70",
   "metadata": {},
   "outputs": [
    {
     "name": "stdout",
     "output_type": "stream",
     "text": [
      "Cantidad de filas:  183\n",
      "Filas completas:  100\n"
     ]
    }
   ],
   "source": [
    "print(\"Cantidad de filas: \", titanic_md.shape[0])\n",
    "print(\"Filas completas: \", titanic_md.dropna().shape[0])"
   ]
  },
  {
   "cell_type": "markdown",
   "id": "82ff5f44",
   "metadata": {},
   "source": [
    "# 4. Imputaciones "
   ]
  },
  {
   "cell_type": "markdown",
   "id": "5d31e78f",
   "metadata": {},
   "source": [
    "##    a.  Imputación general: por media \n",
    "\n",
    "Solo valores numericos "
   ]
  },
  {
   "cell_type": "code",
   "execution_count": 19,
   "id": "be59ed3a",
   "metadata": {},
   "outputs": [],
   "source": [
    "## Media\n",
    "def imputacion_media(df, column):\n",
    "    df.loc[df[column].isna(), column] = df[column].mean().round()\n",
    "    return df"
   ]
  },
  {
   "cell_type": "code",
   "execution_count": 20,
   "id": "bb416dbf",
   "metadata": {},
   "outputs": [],
   "source": [
    "titanic_md1 = titanic_md.copy()"
   ]
  },
  {
   "cell_type": "code",
   "execution_count": 21,
   "id": "2c30ceb7",
   "metadata": {},
   "outputs": [],
   "source": [
    "# Imputacion\n",
    "\n",
    "titanic_md1 = imputacion_media(titanic_md1, \"Age\")\n",
    "titanic_md1 = imputacion_media(titanic_md1, \"SibSp\")\n",
    "titanic_md1 = imputacion_media(titanic_md1, \"Parch\")\n",
    "titanic_md1 = imputacion_media(titanic_md1, \"Fare\")"
   ]
  },
  {
   "cell_type": "code",
   "execution_count": 22,
   "id": "d112a3e3",
   "metadata": {},
   "outputs": [
    {
     "data": {
      "text/plain": [
       "PassengerId     0\n",
       "Survived        0\n",
       "Pclass          0\n",
       "Name            0\n",
       "Sex            51\n",
       "Age             0\n",
       "SibSp           0\n",
       "Parch           0\n",
       "Ticket          0\n",
       "Fare            0\n",
       "Cabin           0\n",
       "Embarked       12\n",
       "dtype: int64"
      ]
     },
     "execution_count": 22,
     "metadata": {},
     "output_type": "execute_result"
    }
   ],
   "source": [
    "# Busqueda de NA's\n",
    "titanic_md1.isna().sum() "
   ]
  },
  {
   "cell_type": "markdown",
   "id": "951bcdb8",
   "metadata": {},
   "source": [
    "#### Ya no quedan NA's en las columnas numericas del dataframe "
   ]
  },
  {
   "cell_type": "markdown",
   "id": "0dee10a1",
   "metadata": {},
   "source": [
    "##   Imputación general: por moda \n",
    "\n",
    "Todos los valores"
   ]
  },
  {
   "cell_type": "code",
   "execution_count": 23,
   "id": "7d6fa6de",
   "metadata": {},
   "outputs": [],
   "source": [
    "## Moda\n",
    "def imputacion_moda(df, column):\n",
    "    df.loc[df[column].isna(), column] = df[column].mode()[0]\n",
    "    return df"
   ]
  },
  {
   "cell_type": "code",
   "execution_count": 24,
   "id": "81daa2d3",
   "metadata": {},
   "outputs": [],
   "source": [
    "titanic_md2 = titanic_md.copy()"
   ]
  },
  {
   "cell_type": "code",
   "execution_count": 25,
   "id": "b37ff614",
   "metadata": {},
   "outputs": [],
   "source": [
    "# Imputacion\n",
    "\n",
    "titanic_md2 = imputacion_moda(titanic_md2, \"Sex\")\n",
    "titanic_md2 = imputacion_moda(titanic_md2, \"Age\")\n",
    "titanic_md2 = imputacion_moda(titanic_md2, \"SibSp\")\n",
    "titanic_md2 = imputacion_moda(titanic_md2, \"Parch\")\n",
    "titanic_md2 = imputacion_moda(titanic_md2, \"Fare\")\n",
    "titanic_md2 = imputacion_moda(titanic_md2, \"Embarked\")"
   ]
  },
  {
   "cell_type": "code",
   "execution_count": 26,
   "id": "9e2d588d",
   "metadata": {},
   "outputs": [
    {
     "data": {
      "text/plain": [
       "PassengerId    0\n",
       "Survived       0\n",
       "Pclass         0\n",
       "Name           0\n",
       "Sex            0\n",
       "Age            0\n",
       "SibSp          0\n",
       "Parch          0\n",
       "Ticket         0\n",
       "Fare           0\n",
       "Cabin          0\n",
       "Embarked       0\n",
       "dtype: int64"
      ]
     },
     "execution_count": 26,
     "metadata": {},
     "output_type": "execute_result"
    }
   ],
   "source": [
    "# Busqueda de NA's\n",
    "titanic_md2.isna().sum() "
   ]
  },
  {
   "cell_type": "markdown",
   "id": "1fb9d892",
   "metadata": {},
   "source": [
    "#### Ninguna columna presenta NA's después de la imputación por moda"
   ]
  },
  {
   "cell_type": "markdown",
   "id": "6bbac04c",
   "metadata": {},
   "source": [
    "##   Imputación general: por mediana \n",
    "\n",
    "Solo columnas numericas"
   ]
  },
  {
   "cell_type": "code",
   "execution_count": 27,
   "id": "ed4a6554",
   "metadata": {},
   "outputs": [],
   "source": [
    "## Mediana\n",
    "def imputacion_mediana(df, column):\n",
    "    df.loc[df[column].isna(), column] = df[column].median()\n",
    "    return df"
   ]
  },
  {
   "cell_type": "code",
   "execution_count": 28,
   "id": "79440200",
   "metadata": {},
   "outputs": [],
   "source": [
    "titanic_md3 = titanic_md.copy()"
   ]
  },
  {
   "cell_type": "code",
   "execution_count": 29,
   "id": "4d09762d",
   "metadata": {},
   "outputs": [],
   "source": [
    "# Imputacion\n",
    "\n",
    "titanic_md3 = imputacion_mediana(titanic_md3, \"Age\")\n",
    "titanic_md3 = imputacion_mediana(titanic_md3, \"SibSp\")\n",
    "titanic_md3 = imputacion_mediana(titanic_md3, \"Parch\")\n",
    "titanic_md3 = imputacion_mediana(titanic_md3, \"Fare\")"
   ]
  },
  {
   "cell_type": "code",
   "execution_count": 30,
   "id": "3f49e527",
   "metadata": {},
   "outputs": [
    {
     "data": {
      "text/plain": [
       "PassengerId     0\n",
       "Survived        0\n",
       "Pclass          0\n",
       "Name            0\n",
       "Sex            51\n",
       "Age             0\n",
       "SibSp           0\n",
       "Parch           0\n",
       "Ticket          0\n",
       "Fare            0\n",
       "Cabin           0\n",
       "Embarked       12\n",
       "dtype: int64"
      ]
     },
     "execution_count": 30,
     "metadata": {},
     "output_type": "execute_result"
    }
   ],
   "source": [
    "# Busqueda de NA's\n",
    "titanic_md3.isna().sum() "
   ]
  },
  {
   "cell_type": "markdown",
   "id": "d58276eb",
   "metadata": {},
   "source": [
    "#### Ya no quedan NA's en las columnas numericas del dataframe "
   ]
  },
  {
   "cell_type": "markdown",
   "id": "8609c6b6",
   "metadata": {},
   "source": [
    "## b. Imputacion por regresion lineal \n",
    "\n",
    "Solo columnas numericas"
   ]
  },
  {
   "cell_type": "code",
   "execution_count": 43,
   "id": "3ed44b80",
   "metadata": {},
   "outputs": [],
   "source": [
    "from sklearn.linear_model import LinearRegression"
   ]
  },
  {
   "cell_type": "code",
   "execution_count": 44,
   "id": "7fff709a",
   "metadata": {},
   "outputs": [],
   "source": [
    "titanic_md4 = titanic_md.copy()\n",
    "\n",
    "# Se imputó por moda para la variable categorica\n",
    "titanic_md4 = imputacion_moda(titanic_md4, \"Sex\")"
   ]
  },
  {
   "cell_type": "code",
   "execution_count": 45,
   "id": "ea73ae5d",
   "metadata": {},
   "outputs": [],
   "source": [
    "# Preparacion data con dummies \n",
    "titanic_md4[\"SexD\"] = pd.get_dummies(titanic_md4[\"Sex\"])[\"female\"]\n",
    "titanic_md4[\"PclassD1\"] = pd.get_dummies(titanic_md4[\"Pclass\"])[1]\n",
    "titanic_md4[\"PclassD2\"] = pd.get_dummies(titanic_md4[\"Pclass\"])[2]"
   ]
  },
  {
   "cell_type": "code",
   "execution_count": 50,
   "id": "e708c863",
   "metadata": {},
   "outputs": [],
   "source": [
    "def imputacion_reg(df, X, y, column):\n",
    "    lm = LinearRegression()\n",
    "    lm = lm.fit(X,y)\n",
    "\n",
    "    X_new = df.iloc[:,[1,12,13,14]]\n",
    "    df[column + '_predict'] = lm.predict(X_new).round()\n",
    "\n",
    "    df[column + '_new'] = np.where(df[column].isna(), df[column + '_predict'], df[column])\n",
    "    \n",
    "    return df"
   ]
  },
  {
   "cell_type": "code",
   "execution_count": 51,
   "id": "fb76d2d2",
   "metadata": {},
   "outputs": [
    {
     "name": "stderr",
     "output_type": "stream",
     "text": [
      "C:\\Users\\chuzd\\AppData\\Local\\Programs\\Python\\Python310\\lib\\site-packages\\sklearn\\base.py:443: UserWarning: X has feature names, but LinearRegression was fitted without feature names\n",
      "  warnings.warn(\n"
     ]
    }
   ],
   "source": [
    "# Imputacion Age\n",
    "data = titanic_md4.iloc[:,[5,1,12,13,14]].dropna()\n",
    "\n",
    "X = data.iloc[:,[1,2,3,4]].values\n",
    "y = data.iloc[:,[0]].values\n",
    "\n",
    "titanic_md4 = imputacion_reg(titanic_md4, X, y, \"Age\")\n"
   ]
  },
  {
   "cell_type": "code",
   "execution_count": 52,
   "id": "86bcf4e6",
   "metadata": {},
   "outputs": [
    {
     "name": "stderr",
     "output_type": "stream",
     "text": [
      "C:\\Users\\chuzd\\AppData\\Local\\Programs\\Python\\Python310\\lib\\site-packages\\sklearn\\base.py:443: UserWarning: X has feature names, but LinearRegression was fitted without feature names\n",
      "  warnings.warn(\n"
     ]
    }
   ],
   "source": [
    "# Imputacion SibSp\n",
    "data = titanic_md4.iloc[:,[6,1,12,13,14]].dropna()\n",
    "data\n",
    "\n",
    "X = data.iloc[:,[1,2,3,4]].values\n",
    "y = data.iloc[:,[0]].values\n",
    "\n",
    "titanic_md4 = imputacion_reg(titanic_md4, X, y, \"SibSp\")\n"
   ]
  },
  {
   "cell_type": "code",
   "execution_count": 53,
   "id": "98e765a9",
   "metadata": {},
   "outputs": [
    {
     "name": "stderr",
     "output_type": "stream",
     "text": [
      "C:\\Users\\chuzd\\AppData\\Local\\Programs\\Python\\Python310\\lib\\site-packages\\sklearn\\base.py:443: UserWarning: X has feature names, but LinearRegression was fitted without feature names\n",
      "  warnings.warn(\n"
     ]
    }
   ],
   "source": [
    "# Imputacion Parch\n",
    "data = titanic_md4.iloc[:,[7,1,12,13,14]].dropna()\n",
    "data\n",
    "\n",
    "X = data.iloc[:,[1,2,3,4]].values\n",
    "y = data.iloc[:,[0]].values\n",
    "\n",
    "titanic_md4 = imputacion_reg(titanic_md4, X, y, \"Parch\")"
   ]
  },
  {
   "cell_type": "code",
   "execution_count": 54,
   "id": "2d09799f",
   "metadata": {},
   "outputs": [
    {
     "name": "stderr",
     "output_type": "stream",
     "text": [
      "C:\\Users\\chuzd\\AppData\\Local\\Programs\\Python\\Python310\\lib\\site-packages\\sklearn\\base.py:443: UserWarning: X has feature names, but LinearRegression was fitted without feature names\n",
      "  warnings.warn(\n"
     ]
    }
   ],
   "source": [
    "# Imputacion Parch\n",
    "data = titanic_md4.iloc[:,[9,1,12,13,14]].dropna()\n",
    "data\n",
    "\n",
    "X = data.iloc[:,[1,2,3,4]].values\n",
    "y = data.iloc[:,[0]].values\n",
    "\n",
    "titanic_md4 = imputacion_reg(titanic_md4, X, y, \"Fare\")"
   ]
  },
  {
   "cell_type": "code",
   "execution_count": 55,
   "id": "811cda62",
   "metadata": {},
   "outputs": [
    {
     "data": {
      "text/plain": [
       "PassengerId       0\n",
       "Survived          0\n",
       "Pclass            0\n",
       "Name              0\n",
       "Sex               0\n",
       "Age              25\n",
       "SibSp             3\n",
       "Parch            12\n",
       "Ticket            0\n",
       "Fare              8\n",
       "Cabin             0\n",
       "Embarked         12\n",
       "SexD              0\n",
       "PclassD1          0\n",
       "PclassD2          0\n",
       "Age_predict       0\n",
       "Age_new           0\n",
       "SibSp_predict     0\n",
       "SibSp_new         0\n",
       "Parch_predict     0\n",
       "Parch_new         0\n",
       "Fare_predict      0\n",
       "Fare_new          0\n",
       "dtype: int64"
      ]
     },
     "execution_count": 55,
     "metadata": {},
     "output_type": "execute_result"
    }
   ],
   "source": [
    "# Busqueda de NA's\n",
    "titanic_md4.isna().sum() "
   ]
  },
  {
   "cell_type": "markdown",
   "id": "61054e55",
   "metadata": {},
   "source": [
    "##### La variable Sex fue inputada previamente por medio de moda, para tener más variables para entrenar el modelo. \n",
    "\n",
    "##### Las columnas AGE, SIBSP, PARRCH Y FARE fueron imputadas con el método de regresión linel, usando las variables Survived, Pclass y Sex como exógenas porque son las únicas variables que se encontraban completas. \n",
    "\n",
    "##### Es necesario que todas las variables exógenas que se usan para la inputación estén completas, porque sin ellas la predicción no es posible y no se podría calcular el valor imputado.\n",
    "\n",
    "##### Las columnas imputadas cuentan con su respectivo nombre más \"_NEW\" para diferenciar que están imputadas y como se puede ver en la tabla anterior, niguna cuenta con datos faltantes.  "
   ]
  },
  {
   "cell_type": "markdown",
   "id": "d1f3c051",
   "metadata": {},
   "source": [
    "## c. Uso de outliers \n",
    "\n",
    "Solo columnas numericas"
   ]
  },
  {
   "cell_type": "markdown",
   "id": "39808bf6",
   "metadata": {},
   "source": [
    "#### Previo a la utilización de outliers es nesario que las columnas estén completas, porque lo que se hará es una eliminación o un \"cap\" (traer la data a lo límites). Es necesario saber sus valores para ver si están fuera o dentro de sus limites.  \n",
    "\n",
    "#### Se creará un nuevo dataframe con las imputaciones descritas en el inciso 2 de tipo de imputacion por columna."
   ]
  },
  {
   "cell_type": "code",
   "execution_count": 56,
   "id": "ea48aa9d",
   "metadata": {},
   "outputs": [
    {
     "data": {
      "text/plain": [
       "PassengerId     0\n",
       "Survived        0\n",
       "Pclass          0\n",
       "Name            0\n",
       "Sex            51\n",
       "Age            25\n",
       "SibSp           3\n",
       "Parch          12\n",
       "Ticket          0\n",
       "Fare            8\n",
       "Cabin           0\n",
       "Embarked       12\n",
       "dtype: int64"
      ]
     },
     "execution_count": 56,
     "metadata": {},
     "output_type": "execute_result"
    }
   ],
   "source": [
    "titanic_new = titanic_md.copy()\n",
    "\n",
    "# Busqueda de NA's\n",
    "titanic_new.isna().sum() "
   ]
  },
  {
   "cell_type": "code",
   "execution_count": 57,
   "id": "60b94e81",
   "metadata": {},
   "outputs": [
    {
     "name": "stdout",
     "output_type": "stream",
     "text": [
      "   Pclass  Survived Sex_new\n",
      "0       1         0    male\n",
      "1       1         1  female\n",
      "2       2         0    male\n",
      "3       2         1  female\n",
      "4       3         0    male\n",
      "5       3         1  female\n"
     ]
    }
   ],
   "source": [
    "# Imputación Sex: MODA SECTORIZADA POR PCLASS y Survived\n",
    "dic_sex = pd.DataFrame(titanic_new.groupby(['Pclass', 'Survived'])['Sex'].agg(lambda x:x.value_counts().index[0])) \\\n",
    "    .reset_index()\n",
    "dic_sex.columns = ['Pclass', 'Survived', 'Sex_new']\n",
    "print(dic_sex)\n",
    "\n",
    "titanic_new = titanic_new.merge(dic_sex, how = 'left', on = ['Pclass', 'Survived'])\n",
    "\n",
    "titanic_new['Sex'] = np.where(titanic_new['Sex'].isna(), titanic_new['Sex_new'], titanic_new['Sex'])\n",
    "\n",
    "titanic_new = titanic_new.drop(['Sex_new'], axis=1)\n"
   ]
  },
  {
   "cell_type": "code",
   "execution_count": 58,
   "id": "05bc4bc7",
   "metadata": {},
   "outputs": [
    {
     "name": "stderr",
     "output_type": "stream",
     "text": [
      "C:\\Users\\chuzd\\AppData\\Local\\Programs\\Python\\Python310\\lib\\site-packages\\sklearn\\base.py:443: UserWarning: X has feature names, but LinearRegression was fitted without feature names\n",
      "  warnings.warn(\n"
     ]
    }
   ],
   "source": [
    "# Preparacion data con dummies \n",
    "titanic_new[\"SexD\"] = pd.get_dummies(titanic_new[\"Sex\"])[\"female\"]\n",
    "titanic_new[\"PclassD1\"] = pd.get_dummies(titanic_new[\"Pclass\"])[1]\n",
    "titanic_new[\"PclassD2\"] = pd.get_dummies(titanic_new[\"Pclass\"])[2]\n",
    "\n",
    "\n",
    "# Imputación Age: por regresion lineal con PCLASS y Survived y Sex como exogenas\n",
    "data = titanic_new.iloc[:,[5,1,12,13,14]].dropna()\n",
    "data\n",
    "\n",
    "X = data.iloc[:,[1,2,3,4]].values\n",
    "y = data.iloc[:,[0]].values\n",
    "\n",
    "titanic_new = imputacion_reg(titanic_new, X, y, \"Age\")\n",
    "\n",
    "titanic_new[\"Age\"] = titanic_new[\"Age_new\"] \n",
    "\n",
    "## Se eliminan las columnas resultantes de la imputacion\n",
    "titanic_new = titanic_new.drop(['SexD', 'PclassD1', 'PclassD2', 'Age_predict', 'Age_new'], axis=1)\n"
   ]
  },
  {
   "cell_type": "code",
   "execution_count": 59,
   "id": "d213c6ad",
   "metadata": {},
   "outputs": [],
   "source": [
    "# Imputación SibSp: por media \n",
    "titanic_new = imputacion_media(titanic_new, \"SibSp\")\n"
   ]
  },
  {
   "cell_type": "code",
   "execution_count": 60,
   "id": "234f78b4",
   "metadata": {},
   "outputs": [
    {
     "name": "stdout",
     "output_type": "stream",
     "text": [
      "   Pclass  Survived  Parch_new\n",
      "0       1         0        0.0\n",
      "1       1         1        0.0\n",
      "2       2         0        1.0\n",
      "3       2         1        0.0\n",
      "4       3         0        0.0\n",
      "5       3         1        1.0\n"
     ]
    }
   ],
   "source": [
    "# Imputación Parch: MEDIA SECTORIZADA POR PCLASS y Survived\n",
    "dic_p = pd.DataFrame(titanic_new.groupby(['Pclass', 'Survived'])['Parch'].agg(lambda x:x.mean().round())) \\\n",
    "    .reset_index()\n",
    "dic_p.columns = ['Pclass', 'Survived', 'Parch_new']\n",
    "print(dic_p)\n",
    "\n",
    "\n",
    "titanic_new = titanic_new.merge(dic_p, how = 'left', on = ['Pclass', 'Survived'])\n",
    "titanic_new['Parch'] = np.where(titanic_new['Parch'].isna(), titanic_new['Parch_new'], titanic_new['Parch'])\n",
    "titanic_new = titanic_new.drop(['Parch_new'], axis=1)"
   ]
  },
  {
   "cell_type": "code",
   "execution_count": 61,
   "id": "156bc6ef",
   "metadata": {},
   "outputs": [
    {
     "name": "stdout",
     "output_type": "stream",
     "text": [
      "   Pclass  Fare_new\n",
      "0       1   71.0000\n",
      "1       2   13.0000\n",
      "2       3   10.4625\n"
     ]
    }
   ],
   "source": [
    "# Imputación Fare: MEDIANA SECTORIZADA POR PCLASS  \n",
    "dic_Fare = pd.DataFrame(titanic_new.groupby(['Pclass'])['Fare'].agg(lambda x:x.median())) \\\n",
    "    .reset_index()\n",
    "dic_Fare.columns = ['Pclass', 'Fare_new']\n",
    "print(dic_Fare)\n",
    "\n",
    "titanic_new = titanic_new.merge(dic_Fare, how = 'left', on = ['Pclass'])\n",
    "titanic_new['Fare'] = np.where(titanic_new['Fare'].isna(), titanic_new['Fare_new'], titanic_new['Fare'])\n",
    "titanic_new = titanic_new.drop(['Fare_new'], axis=1)"
   ]
  },
  {
   "cell_type": "code",
   "execution_count": 62,
   "id": "e6af781c",
   "metadata": {},
   "outputs": [],
   "source": [
    "# Imputación Embarked: MODA  \n",
    "\n",
    "titanic_new = imputacion_moda(titanic_new, \"Embarked\")"
   ]
  },
  {
   "cell_type": "code",
   "execution_count": 63,
   "id": "66160827",
   "metadata": {},
   "outputs": [
    {
     "data": {
      "text/plain": [
       "PassengerId    0\n",
       "Survived       0\n",
       "Pclass         0\n",
       "Name           0\n",
       "Sex            0\n",
       "Age            0\n",
       "SibSp          0\n",
       "Parch          0\n",
       "Ticket         0\n",
       "Fare           0\n",
       "Cabin          0\n",
       "Embarked       0\n",
       "dtype: int64"
      ]
     },
     "execution_count": 63,
     "metadata": {},
     "output_type": "execute_result"
    }
   ],
   "source": [
    "titanic_new.isna().sum() "
   ]
  },
  {
   "cell_type": "markdown",
   "id": "b2bc6f3d",
   "metadata": {},
   "source": [
    "### Ahora ya no hay más valores faltantes por lo que se puede proceder a calcular los outliers. Se harán outliers por percentiles y hará cap a los valores de los extremos. \n",
    "\n",
    "### Se cambiarán los datos menores al 5% y mayores al 95% "
   ]
  },
  {
   "cell_type": "code",
   "execution_count": 64,
   "id": "db7fdf56",
   "metadata": {},
   "outputs": [],
   "source": [
    "titanic_out = titanic_new.copy()"
   ]
  },
  {
   "cell_type": "code",
   "execution_count": 65,
   "id": "5244f986",
   "metadata": {},
   "outputs": [
    {
     "name": "stdout",
     "output_type": "stream",
     "text": [
      "pl: 12.2\n",
      "pu: 60.900000000000006\n"
     ]
    }
   ],
   "source": [
    "# Calculo de ouliers para Age\n",
    "pl = np.percentile(titanic_out['Age'], 5)\n",
    "pu = np.percentile(titanic_out['Age'], 95)\n",
    "\n",
    "titanic_out['Age_out'] = np.where(\n",
    "    titanic_out['Age']<pl,\n",
    "    pl,\n",
    "    np.where(\n",
    "        titanic_out['Age']>pu,\n",
    "        pu,\n",
    "        titanic_out['Age']\n",
    "    )\n",
    ")\n",
    "\n",
    "print(\"pl:\", pl)\n",
    "print(\"pu:\", pu)"
   ]
  },
  {
   "cell_type": "code",
   "execution_count": 66,
   "id": "281911e6",
   "metadata": {},
   "outputs": [
    {
     "name": "stdout",
     "output_type": "stream",
     "text": [
      "pl: 0.0\n",
      "pu: 1.0\n"
     ]
    }
   ],
   "source": [
    "# Calculo de ouliers para SibSp\n",
    "pl = np.percentile(titanic_out['SibSp'], 5)\n",
    "pu = np.percentile(titanic_out['SibSp'], 95)\n",
    "\n",
    "titanic_out['SibSp_out'] = np.where(\n",
    "    titanic_out['SibSp']<pl,\n",
    "    pl,\n",
    "    np.where(\n",
    "        titanic_out['SibSp']>pu,\n",
    "        pu,\n",
    "        titanic_out['SibSp']\n",
    "    )\n",
    ")\n",
    "\n",
    "print(\"pl:\", pl)\n",
    "print(\"pu:\", pu)"
   ]
  },
  {
   "cell_type": "code",
   "execution_count": 67,
   "id": "bee32cdb",
   "metadata": {},
   "outputs": [
    {
     "name": "stdout",
     "output_type": "stream",
     "text": [
      "pl: 0.0\n",
      "pu: 2.0\n"
     ]
    }
   ],
   "source": [
    "# Calculo de ouliers para Parch\n",
    "pl = np.percentile(titanic_out['Parch'], 5)\n",
    "pu = np.percentile(titanic_out['Parch'], 95)\n",
    "\n",
    "titanic_out['Parch_out'] = np.where(\n",
    "    titanic_out['Parch']<pl,\n",
    "    pl,\n",
    "    np.where(\n",
    "        titanic_out['Parch']>pu,\n",
    "        pu,\n",
    "        titanic_out['Parch']\n",
    "    )\n",
    ")\n",
    "\n",
    "print(\"pl:\", pl)\n",
    "print(\"pu:\", pu)"
   ]
  },
  {
   "cell_type": "code",
   "execution_count": 68,
   "id": "0e6a2946",
   "metadata": {},
   "outputs": [
    {
     "name": "stdout",
     "output_type": "stream",
     "text": [
      "pl: 10.5\n",
      "pu: 245.5212200000001\n"
     ]
    }
   ],
   "source": [
    "# Calculo de ouliers para Fare\n",
    "pl = np.percentile(titanic_out['Fare'], 5)\n",
    "pu = np.percentile(titanic_out['Fare'], 95)\n",
    "\n",
    "titanic_out['Fare_out'] = np.where(\n",
    "    titanic_out['Fare']<pl,\n",
    "    pl,\n",
    "    np.where(\n",
    "        titanic_out['Fare']>pu,\n",
    "        pu,\n",
    "        titanic_out['Fare']\n",
    "    )\n",
    ")\n",
    "\n",
    "print(\"pl:\", pl)\n",
    "print(\"pu:\", pu)"
   ]
  },
  {
   "cell_type": "markdown",
   "id": "12cf739a",
   "metadata": {},
   "source": [
    "# 4. Comparación de distintos métodos de imputación para cada columna "
   ]
  },
  {
   "cell_type": "code",
   "execution_count": 69,
   "id": "bda3bce7",
   "metadata": {},
   "outputs": [],
   "source": [
    "import seaborn as sns\n",
    "import matplotlib.pyplot as plt"
   ]
  },
  {
   "cell_type": "code",
   "execution_count": 70,
   "id": "211819df",
   "metadata": {},
   "outputs": [
    {
     "data": {
      "image/png": "[encoded data removed]",
      "text/plain": [
       "<Figure size 640x480 with 6 Axes>"
      ]
     },
     "metadata": {},
     "output_type": "display_data"
    }
   ],
   "source": [
    "def plot_numericas(filas, columnas, variable, k):\n",
    "    fig = plt.figure()\n",
    "    fig.subplots_adjust(hspace=1, wspace=0.5)\n",
    "    ax = fig.add_subplot(filas, columnas, 1)\n",
    "    sns.histplot(titanic[variable],kde=k, stat=\"density\").set(title='Original Completo')\n",
    "\n",
    "    ax = fig.add_subplot(filas, columnas, 2)\n",
    "    sns.histplot(titanic_md1[variable],kde=k, stat=\"density\").set(title='Media')\n",
    "\n",
    "    ax = fig.add_subplot(filas, columnas, 3)\n",
    "    sns.histplot(titanic_md2[variable],kde=k, stat=\"density\").set(title='Moda')\n",
    "\n",
    "    ax = fig.add_subplot(filas, columnas, 4)\n",
    "    sns.histplot(titanic_md3[variable],kde=k, stat=\"density\").set(title='Mediana')\n",
    "\n",
    "    ax = fig.add_subplot(filas, columnas, 5)\n",
    "    sns.histplot(titanic_md4[variable + '_new'],kde=k, stat=\"density\").set(title='Regresion Lineal')\n",
    "\n",
    "\n",
    "    ax = fig.add_subplot(filas, columnas, 6)\n",
    "    sns.histplot(titanic_out[variable + '_out'],kde=k, stat=\"density\").set(title='Outliers')\n",
    "\n",
    "\n",
    "    plt.show()\n",
    "\n",
    "filas = 3\n",
    "columnas = 2\n",
    "variable = 'Age'\n",
    "k = True \n",
    "\n",
    "plot_numericas(filas, columnas, variable, k)"
   ]
  },
  {
   "cell_type": "markdown",
   "id": "faab289c",
   "metadata": {},
   "source": [
    "### Imputacion Age \n",
    "##### El método que estuvo más cercano a data real de \"Age\" es REGRESIÓN LINEAL por Pclass, Survived  y Sex. Porque su diagrama de dispersión es el más parecido al de la data real.  Por lo que podemos decir existía un distinto rango de edad entre las clases y que otro factor importante que cambiaba la edad el sexo y si sobrevivió o no. "
   ]
  },
  {
   "cell_type": "code",
   "execution_count": 71,
   "id": "daf9d11b",
   "metadata": {},
   "outputs": [
    {
     "data": {
      "image/png": "[encoded data removed]",
      "text/plain": [
       "<Figure size 640x480 with 6 Axes>"
      ]
     },
     "metadata": {},
     "output_type": "display_data"
    }
   ],
   "source": [
    "filas = 3\n",
    "columnas = 2\n",
    "variable = 'SibSp'\n",
    "k = False\n",
    "\n",
    "plot_numericas(filas, columnas, variable, k)"
   ]
  },
  {
   "cell_type": "markdown",
   "id": "e28bed50",
   "metadata": {},
   "source": [
    "### Imputacion SibSp \n",
    "##### En el caso de esta columna  no hay tanta diferencia entre los distintos métodos de imputación, porque solo se contaba con 3 valores faltantantes. \n",
    "\n",
    "##### El mejor método de imputación para este caso, puede ser la MODA, porque hay pocos datos faltantantes y no afecta tanto la distribución de los datos.\n",
    "\n",
    "#### Por otra parte, el peor método son los Ouliers, porque eliminó dos categorías, la de 2 y de 3. Por lo que nos es remendable aplicar ouliers a columnas con poca diferencia entre sus valores.   \n"
   ]
  },
  {
   "cell_type": "code",
   "execution_count": 78,
   "id": "c3f33281",
   "metadata": {},
   "outputs": [
    {
     "data": {
      "image/png": "[encoded data removed]",
      "text/plain": [
       "<Figure size 640x480 with 6 Axes>"
      ]
     },
     "metadata": {},
     "output_type": "display_data"
    }
   ],
   "source": [
    "filas = 3\n",
    "columnas = 2\n",
    "variable = 'Parch'\n",
    "k = True\n",
    "\n",
    "plot_numericas(filas, columnas, variable, k)"
   ]
  },
  {
   "cell_type": "markdown",
   "id": "4090eca7",
   "metadata": {},
   "source": [
    "### Imputacion Parch \n",
    "##### Al igual que en el caso anterior, no hay tante diferencia entre los métodos de imputación, sus distribuciones están muy similares. \n",
    "\n",
    "##### El método más acercado a la realidad  es REGRESION LINEAL, porque hace un predicción más exacta para hacer la imputación. \n"
   ]
  },
  {
   "cell_type": "code",
   "execution_count": 73,
   "id": "32a8a340",
   "metadata": {},
   "outputs": [
    {
     "data": {
      "image/png": "[encoded data removed]",
      "text/plain": [
       "<Figure size 640x480 with 6 Axes>"
      ]
     },
     "metadata": {},
     "output_type": "display_data"
    }
   ],
   "source": [
    "filas = 3\n",
    "columnas = 2\n",
    "variable = 'Fare'\n",
    "k = True\n",
    "\n",
    "plot_numericas(filas, columnas, variable, k)"
   ]
  },
  {
   "cell_type": "markdown",
   "id": "1a34a1c1",
   "metadata": {},
   "source": [
    "### Imputacion Fare \n",
    "##### El método más acercado a la realidad  es REGRESION LINEAL, porque los bins o categorías del diagrama de dispersión, son muy similares.\n",
    "\n",
    "#### En este caso sí sería recomendable utilizar ouliers antes de entrenar el modelo para que lso datos que a penas representan el 5% de los datos no sesguen el modelo a los valores máximos. \n"
   ]
  },
  {
   "cell_type": "code",
   "execution_count": 74,
   "id": "87808dc3",
   "metadata": {},
   "outputs": [
    {
     "data": {
      "image/png": "[encoded data removed]",
      "text/plain": [
       "<Figure size 640x480 with 3 Axes>"
      ]
     },
     "metadata": {},
     "output_type": "display_data"
    }
   ],
   "source": [
    "filas = 2\n",
    "columnas = 2\n",
    "variable = 'Sex'\n",
    "\n",
    "fig = plt.figure()\n",
    "fig.subplots_adjust(hspace=1, wspace=0.5)\n",
    "ax = fig.add_subplot(filas, columnas, 1)\n",
    "sns.countplot(x=titanic[variable]).set(title='Original Completo')\n",
    "\n",
    "ax = fig.add_subplot(filas, columnas, 2)\n",
    "sns.countplot(x=titanic_md2[variable]).set(title='Moda')\n",
    "\n",
    "ax = fig.add_subplot(filas, columnas, 3)\n",
    "sns.countplot(x=titanic_out[variable]).set(title='Moda Sectorizada Pclass y Survived')\n",
    "\n",
    "plt.show()"
   ]
  },
  {
   "cell_type": "markdown",
   "id": "63fdb5c2",
   "metadata": {},
   "source": [
    "### Imputacion Sex \n",
    "##### El método más acercado a la realidad  es MODA SECTORIZADA por Pclass y Survived, porque no cambió mucho la proporción que había entre hombres y mujeres, como sí lo hizo la MODA simple. "
   ]
  },
  {
   "cell_type": "code",
   "execution_count": 75,
   "id": "8d471511",
   "metadata": {},
   "outputs": [
    {
     "data": {
      "image/png": "[encoded data removed]",
      "text/plain": [
       "<Figure size 640x480 with 3 Axes>"
      ]
     },
     "metadata": {},
     "output_type": "display_data"
    }
   ],
   "source": [
    "filas = 2\n",
    "columnas = 2\n",
    "variable = 'Embarked'\n",
    "\n",
    "fig = plt.figure()\n",
    "fig.subplots_adjust(hspace=1, wspace=0.5)\n",
    "ax = fig.add_subplot(filas, columnas, 1)\n",
    "sns.countplot(x=titanic[variable]).set(title='Original Completo')\n",
    "\n",
    "ax = fig.add_subplot(filas, columnas, 2)\n",
    "sns.countplot(x=titanic_md2[variable]).set(title='Moda')\n",
    "\n",
    "ax = fig.add_subplot(filas, columnas, 3)\n",
    "sns.countplot(x=titanic_out[variable]).set(title='Moda ouliers')\n",
    "\n",
    "plt.show()"
   ]
  },
  {
   "cell_type": "markdown",
   "id": "54c8e064",
   "metadata": {},
   "source": [
    "### Imputacion Embarked \n",
    "\n",
    "##### El método más acercado a la realidad  es la MODA, porque no se encuentra diferencia imporantante entre la distribución entre MODA y MODA OULIERS.  Y ambas son muy parecidas a la data real. \n"
   ]
  },
  {
   "cell_type": "markdown",
   "id": "f81e8a85",
   "metadata": {},
   "source": [
    "## Conclusión\n",
    "\n",
    "### El método de regresión lineal, demostró ser más preciso en la mayoría de imputaciones numericas, porque mantenía la distribución de los datos más parecida a la distribución real. Su desventaja es que se necesita tener columnas completas  para entrenar el modelo y hacer las predicciones. \n",
    "\n",
    "### Recomendaciones:\n",
    "\n",
    "### Para pocos datos faltantes se recomienda utilizar métodos simples, como media, mediana y moda según el tipo de dato que se tenga (numerico o categórico). Para una mayor cantidad de data faltante se recomienda utilizar métodos más precisos como la regresión lineal para los datos numéricos y métodos simples sectorizados así la distribución de los datos no se cambia tanto.\n",
    "\n",
    "### No se recomienda utilizar ouliers cuando no existe un gran diferencia entre los valores máximos y mínimos y hayan pocos valores posibles en la variable. Como se mostraba en las columnas de SibSp y Parch, al aplicar outliers se eliminaron dos categorías de esas columnas, que solo tenía 4 y 5 valores posibles respectivamente. "
   ]
  },
  {
   "cell_type": "markdown",
   "id": "3cecaa6f",
   "metadata": {},
   "source": [
    "# Parte 2"
   ]
  },
  {
   "cell_type": "markdown",
   "id": "0d54b703",
   "metadata": {},
   "source": [
    "## 1. Normalización "
   ]
  },
  {
   "cell_type": "code",
   "execution_count": 87,
   "id": "ae8b7e5f",
   "metadata": {},
   "outputs": [
    {
     "data": {
      "text/html": [
       "<div>\n",
       "<style scoped>\n",
       "    .dataframe tbody tr th:only-of-type {\n",
       "        vertical-align: middle;\n",
       "    }\n",
       "\n",
       "    .dataframe tbody tr th {\n",
       "        vertical-align: top;\n",
       "    }\n",
       "\n",
       "    .dataframe thead th {\n",
       "        text-align: right;\n",
       "    }\n",
       "</style>\n",
       "<table border=\"1\" class=\"dataframe\">\n",
       "  <thead>\n",
       "    <tr style=\"text-align: right;\">\n",
       "      <th></th>\n",
       "      <th>Age</th>\n",
       "      <th>SibSp</th>\n",
       "      <th>Parch</th>\n",
       "      <th>Fare</th>\n",
       "    </tr>\n",
       "  </thead>\n",
       "  <tbody>\n",
       "    <tr>\n",
       "      <th>0</th>\n",
       "      <td>38.0</td>\n",
       "      <td>1.0</td>\n",
       "      <td>0.0</td>\n",
       "      <td>71.2833</td>\n",
       "    </tr>\n",
       "    <tr>\n",
       "      <th>1</th>\n",
       "      <td>35.0</td>\n",
       "      <td>1.0</td>\n",
       "      <td>0.0</td>\n",
       "      <td>53.1000</td>\n",
       "    </tr>\n",
       "    <tr>\n",
       "      <th>2</th>\n",
       "      <td>54.0</td>\n",
       "      <td>0.0</td>\n",
       "      <td>0.0</td>\n",
       "      <td>51.8625</td>\n",
       "    </tr>\n",
       "    <tr>\n",
       "      <th>3</th>\n",
       "      <td>12.0</td>\n",
       "      <td>1.0</td>\n",
       "      <td>1.0</td>\n",
       "      <td>16.7000</td>\n",
       "    </tr>\n",
       "    <tr>\n",
       "      <th>4</th>\n",
       "      <td>58.0</td>\n",
       "      <td>0.0</td>\n",
       "      <td>0.0</td>\n",
       "      <td>26.5500</td>\n",
       "    </tr>\n",
       "  </tbody>\n",
       "</table>\n",
       "</div>"
      ],
      "text/plain": [
       "    Age  SibSp  Parch     Fare\n",
       "0  38.0    1.0    0.0  71.2833\n",
       "1  35.0    1.0    0.0  53.1000\n",
       "2  54.0    0.0    0.0  51.8625\n",
       "3  12.0    1.0    1.0  16.7000\n",
       "4  58.0    0.0    0.0  26.5500"
      ]
     },
     "execution_count": 87,
     "metadata": {},
     "output_type": "execute_result"
    }
   ],
   "source": [
    "titanic_normal = titanic.copy()\n",
    "titanic_new_normal= titanic_new.copy()\n",
    "\n",
    "# Eliminación de variables que no se normalizarán\n",
    "titanic_normal = titanic_normal.drop(['PassengerId', 'Name', 'Ticket', 'Cabin', 'Sex', 'Survived', 'Pclass','Embarked'], axis=1)\n",
    "titanic_new_normal = titanic_new_normal.drop(['PassengerId', 'Name', 'Ticket', 'Cabin', 'Sex', 'Survived', 'Pclass','Embarked'], axis=1)\n",
    "\n",
    "titanic_new_Standar.head()"
   ]
  },
  {
   "cell_type": "markdown",
   "id": "ee4351d0",
   "metadata": {},
   "source": [
    "## Standarization"
   ]
  },
  {
   "cell_type": "code",
   "execution_count": 89,
   "id": "559debd8",
   "metadata": {},
   "outputs": [],
   "source": [
    "from sklearn.preprocessing import StandardScaler"
   ]
  },
  {
   "cell_type": "code",
   "execution_count": 107,
   "id": "75ad0479",
   "metadata": {},
   "outputs": [],
   "source": [
    "def norm_standar(df_z):\n",
    "    scaler = StandardScaler()\n",
    "    for col in df_z.select_dtypes(include=['float', 'int']).columns:\n",
    "        df_z[col+'_z'] = scaler.fit_transform(df_z[[col]])\n",
    "    return df_z"
   ]
  },
  {
   "cell_type": "code",
   "execution_count": 125,
   "id": "c37aed5e",
   "metadata": {},
   "outputs": [
    {
     "data": {
      "text/html": [
       "<div>\n",
       "<style scoped>\n",
       "    .dataframe tbody tr th:only-of-type {\n",
       "        vertical-align: middle;\n",
       "    }\n",
       "\n",
       "    .dataframe tbody tr th {\n",
       "        vertical-align: top;\n",
       "    }\n",
       "\n",
       "    .dataframe thead th {\n",
       "        text-align: right;\n",
       "    }\n",
       "</style>\n",
       "<table border=\"1\" class=\"dataframe\">\n",
       "  <thead>\n",
       "    <tr style=\"text-align: right;\">\n",
       "      <th></th>\n",
       "      <th>Age</th>\n",
       "      <th>SibSp</th>\n",
       "      <th>Parch</th>\n",
       "      <th>Fare</th>\n",
       "      <th>Age_z</th>\n",
       "      <th>SibSp_z</th>\n",
       "      <th>Parch_z</th>\n",
       "      <th>Fare_z</th>\n",
       "    </tr>\n",
       "  </thead>\n",
       "  <tbody>\n",
       "    <tr>\n",
       "      <th>0</th>\n",
       "      <td>38.0</td>\n",
       "      <td>1</td>\n",
       "      <td>0</td>\n",
       "      <td>71.2833</td>\n",
       "      <td>0.149065</td>\n",
       "      <td>0.833628</td>\n",
       "      <td>-0.631730</td>\n",
       "      <td>-0.097180</td>\n",
       "    </tr>\n",
       "    <tr>\n",
       "      <th>1</th>\n",
       "      <td>35.0</td>\n",
       "      <td>1</td>\n",
       "      <td>0</td>\n",
       "      <td>53.1000</td>\n",
       "      <td>-0.043230</td>\n",
       "      <td>0.833628</td>\n",
       "      <td>-0.631730</td>\n",
       "      <td>-0.335997</td>\n",
       "    </tr>\n",
       "    <tr>\n",
       "      <th>2</th>\n",
       "      <td>54.0</td>\n",
       "      <td>0</td>\n",
       "      <td>0</td>\n",
       "      <td>51.8625</td>\n",
       "      <td>1.174636</td>\n",
       "      <td>-0.723044</td>\n",
       "      <td>-0.631730</td>\n",
       "      <td>-0.352250</td>\n",
       "    </tr>\n",
       "    <tr>\n",
       "      <th>3</th>\n",
       "      <td>4.0</td>\n",
       "      <td>1</td>\n",
       "      <td>1</td>\n",
       "      <td>16.7000</td>\n",
       "      <td>-2.030273</td>\n",
       "      <td>0.833628</td>\n",
       "      <td>0.697081</td>\n",
       "      <td>-0.814070</td>\n",
       "    </tr>\n",
       "    <tr>\n",
       "      <th>4</th>\n",
       "      <td>58.0</td>\n",
       "      <td>0</td>\n",
       "      <td>0</td>\n",
       "      <td>26.5500</td>\n",
       "      <td>1.431029</td>\n",
       "      <td>-0.723044</td>\n",
       "      <td>-0.631730</td>\n",
       "      <td>-0.684702</td>\n",
       "    </tr>\n",
       "  </tbody>\n",
       "</table>\n",
       "</div>"
      ],
      "text/plain": [
       "    Age  SibSp  Parch     Fare     Age_z   SibSp_z   Parch_z    Fare_z\n",
       "0  38.0      1      0  71.2833  0.149065  0.833628 -0.631730 -0.097180\n",
       "1  35.0      1      0  53.1000 -0.043230  0.833628 -0.631730 -0.335997\n",
       "2  54.0      0      0  51.8625  1.174636 -0.723044 -0.631730 -0.352250\n",
       "3   4.0      1      1  16.7000 -2.030273  0.833628  0.697081 -0.814070\n",
       "4  58.0      0      0  26.5500  1.431029 -0.723044 -0.631730 -0.684702"
      ]
     },
     "execution_count": 125,
     "metadata": {},
     "output_type": "execute_result"
    }
   ],
   "source": [
    "titanic_Standar = titanic_normal.copy() \n",
    "titanic_new_Standar = titanic_new_normal.copy() \n",
    "\n",
    "titanic_Standar = norm_standar(titanic_Standar)\n",
    "titanic_new_Standar = norm_standar(titanic_new_Standar)\n",
    "titanic_Standar.head()"
   ]
  },
  {
   "cell_type": "markdown",
   "id": "5ae4f8ef",
   "metadata": {},
   "source": [
    "### MinMaxScaling"
   ]
  },
  {
   "cell_type": "code",
   "execution_count": 126,
   "id": "4f440f7d",
   "metadata": {},
   "outputs": [],
   "source": [
    "from sklearn.preprocessing import MinMaxScaler"
   ]
  },
  {
   "cell_type": "code",
   "execution_count": 128,
   "id": "d73ef047",
   "metadata": {},
   "outputs": [],
   "source": [
    "def norm_minmax(df_z):\n",
    "    scaler = MinMaxScaler()\n",
    "    for col in df_z.select_dtypes(include=['float', 'int']).columns:\n",
    "        df_z[col+'_z'] = scaler.fit_transform(df_z[[col]])\n",
    "    return df_z"
   ]
  },
  {
   "cell_type": "code",
   "execution_count": 138,
   "id": "5c87ea69",
   "metadata": {},
   "outputs": [
    {
     "data": {
      "text/html": [
       "<div>\n",
       "<style scoped>\n",
       "    .dataframe tbody tr th:only-of-type {\n",
       "        vertical-align: middle;\n",
       "    }\n",
       "\n",
       "    .dataframe tbody tr th {\n",
       "        vertical-align: top;\n",
       "    }\n",
       "\n",
       "    .dataframe thead th {\n",
       "        text-align: right;\n",
       "    }\n",
       "</style>\n",
       "<table border=\"1\" class=\"dataframe\">\n",
       "  <thead>\n",
       "    <tr style=\"text-align: right;\">\n",
       "      <th></th>\n",
       "      <th>Age</th>\n",
       "      <th>SibSp</th>\n",
       "      <th>Parch</th>\n",
       "      <th>Fare</th>\n",
       "      <th>Age_z</th>\n",
       "      <th>SibSp_z</th>\n",
       "      <th>Parch_z</th>\n",
       "      <th>Fare_z</th>\n",
       "    </tr>\n",
       "  </thead>\n",
       "  <tbody>\n",
       "    <tr>\n",
       "      <th>0</th>\n",
       "      <td>38.0</td>\n",
       "      <td>1</td>\n",
       "      <td>0</td>\n",
       "      <td>71.2833</td>\n",
       "      <td>0.468892</td>\n",
       "      <td>0.333333</td>\n",
       "      <td>0.00</td>\n",
       "      <td>0.139136</td>\n",
       "    </tr>\n",
       "    <tr>\n",
       "      <th>1</th>\n",
       "      <td>35.0</td>\n",
       "      <td>1</td>\n",
       "      <td>0</td>\n",
       "      <td>53.1000</td>\n",
       "      <td>0.430956</td>\n",
       "      <td>0.333333</td>\n",
       "      <td>0.00</td>\n",
       "      <td>0.103644</td>\n",
       "    </tr>\n",
       "    <tr>\n",
       "      <th>2</th>\n",
       "      <td>54.0</td>\n",
       "      <td>0</td>\n",
       "      <td>0</td>\n",
       "      <td>51.8625</td>\n",
       "      <td>0.671219</td>\n",
       "      <td>0.000000</td>\n",
       "      <td>0.00</td>\n",
       "      <td>0.101229</td>\n",
       "    </tr>\n",
       "    <tr>\n",
       "      <th>3</th>\n",
       "      <td>4.0</td>\n",
       "      <td>1</td>\n",
       "      <td>1</td>\n",
       "      <td>16.7000</td>\n",
       "      <td>0.038948</td>\n",
       "      <td>0.333333</td>\n",
       "      <td>0.25</td>\n",
       "      <td>0.032596</td>\n",
       "    </tr>\n",
       "    <tr>\n",
       "      <th>4</th>\n",
       "      <td>58.0</td>\n",
       "      <td>0</td>\n",
       "      <td>0</td>\n",
       "      <td>26.5500</td>\n",
       "      <td>0.721801</td>\n",
       "      <td>0.000000</td>\n",
       "      <td>0.00</td>\n",
       "      <td>0.051822</td>\n",
       "    </tr>\n",
       "  </tbody>\n",
       "</table>\n",
       "</div>"
      ],
      "text/plain": [
       "    Age  SibSp  Parch     Fare     Age_z   SibSp_z  Parch_z    Fare_z\n",
       "0  38.0      1      0  71.2833  0.468892  0.333333     0.00  0.139136\n",
       "1  35.0      1      0  53.1000  0.430956  0.333333     0.00  0.103644\n",
       "2  54.0      0      0  51.8625  0.671219  0.000000     0.00  0.101229\n",
       "3   4.0      1      1  16.7000  0.038948  0.333333     0.25  0.032596\n",
       "4  58.0      0      0  26.5500  0.721801  0.000000     0.00  0.051822"
      ]
     },
     "execution_count": 138,
     "metadata": {},
     "output_type": "execute_result"
    }
   ],
   "source": [
    "titanic_minmax = titanic_normal.copy() \n",
    "titanic_new_minmax = titanic_new_normal.copy() \n",
    "\n",
    "titanic_minmax = norm_minmax(titanic_minmax)\n",
    "titanic_new_minmax = norm_minmax(titanic_new_minmax)\n",
    "titanic_minmax.head()"
   ]
  },
  {
   "cell_type": "markdown",
   "id": "b37dce23",
   "metadata": {},
   "source": [
    "## MaxAbsScaler"
   ]
  },
  {
   "cell_type": "code",
   "execution_count": 146,
   "id": "7c4d371e",
   "metadata": {},
   "outputs": [],
   "source": [
    "from sklearn.preprocessing import MaxAbsScaler"
   ]
  },
  {
   "cell_type": "code",
   "execution_count": 147,
   "id": "25eb134b",
   "metadata": {},
   "outputs": [],
   "source": [
    "def norm_MaxABS(df_z):\n",
    "    scaler = MaxAbsScaler()\n",
    "    for col in df_z.select_dtypes(include=['float', 'int']).columns:\n",
    "        df_z[col+'_z'] = scaler.fit_transform(df_z[[col]])\n",
    "    return df_z"
   ]
  },
  {
   "cell_type": "code",
   "execution_count": 155,
   "id": "f0ea79d6",
   "metadata": {},
   "outputs": [
    {
     "data": {
      "text/html": [
       "<div>\n",
       "<style scoped>\n",
       "    .dataframe tbody tr th:only-of-type {\n",
       "        vertical-align: middle;\n",
       "    }\n",
       "\n",
       "    .dataframe tbody tr th {\n",
       "        vertical-align: top;\n",
       "    }\n",
       "\n",
       "    .dataframe thead th {\n",
       "        text-align: right;\n",
       "    }\n",
       "</style>\n",
       "<table border=\"1\" class=\"dataframe\">\n",
       "  <thead>\n",
       "    <tr style=\"text-align: right;\">\n",
       "      <th></th>\n",
       "      <th>Age</th>\n",
       "      <th>SibSp</th>\n",
       "      <th>Parch</th>\n",
       "      <th>Fare</th>\n",
       "      <th>Age_z</th>\n",
       "      <th>SibSp_z</th>\n",
       "      <th>Parch_z</th>\n",
       "      <th>Fare_z</th>\n",
       "    </tr>\n",
       "  </thead>\n",
       "  <tbody>\n",
       "    <tr>\n",
       "      <th>0</th>\n",
       "      <td>38.0</td>\n",
       "      <td>1</td>\n",
       "      <td>0</td>\n",
       "      <td>71.2833</td>\n",
       "      <td>0.4750</td>\n",
       "      <td>0.333333</td>\n",
       "      <td>0.00</td>\n",
       "      <td>0.139136</td>\n",
       "    </tr>\n",
       "    <tr>\n",
       "      <th>1</th>\n",
       "      <td>35.0</td>\n",
       "      <td>1</td>\n",
       "      <td>0</td>\n",
       "      <td>53.1000</td>\n",
       "      <td>0.4375</td>\n",
       "      <td>0.333333</td>\n",
       "      <td>0.00</td>\n",
       "      <td>0.103644</td>\n",
       "    </tr>\n",
       "    <tr>\n",
       "      <th>2</th>\n",
       "      <td>54.0</td>\n",
       "      <td>0</td>\n",
       "      <td>0</td>\n",
       "      <td>51.8625</td>\n",
       "      <td>0.6750</td>\n",
       "      <td>0.000000</td>\n",
       "      <td>0.00</td>\n",
       "      <td>0.101229</td>\n",
       "    </tr>\n",
       "    <tr>\n",
       "      <th>3</th>\n",
       "      <td>4.0</td>\n",
       "      <td>1</td>\n",
       "      <td>1</td>\n",
       "      <td>16.7000</td>\n",
       "      <td>0.0500</td>\n",
       "      <td>0.333333</td>\n",
       "      <td>0.25</td>\n",
       "      <td>0.032596</td>\n",
       "    </tr>\n",
       "    <tr>\n",
       "      <th>4</th>\n",
       "      <td>58.0</td>\n",
       "      <td>0</td>\n",
       "      <td>0</td>\n",
       "      <td>26.5500</td>\n",
       "      <td>0.7250</td>\n",
       "      <td>0.000000</td>\n",
       "      <td>0.00</td>\n",
       "      <td>0.051822</td>\n",
       "    </tr>\n",
       "  </tbody>\n",
       "</table>\n",
       "</div>"
      ],
      "text/plain": [
       "    Age  SibSp  Parch     Fare   Age_z   SibSp_z  Parch_z    Fare_z\n",
       "0  38.0      1      0  71.2833  0.4750  0.333333     0.00  0.139136\n",
       "1  35.0      1      0  53.1000  0.4375  0.333333     0.00  0.103644\n",
       "2  54.0      0      0  51.8625  0.6750  0.000000     0.00  0.101229\n",
       "3   4.0      1      1  16.7000  0.0500  0.333333     0.25  0.032596\n",
       "4  58.0      0      0  26.5500  0.7250  0.000000     0.00  0.051822"
      ]
     },
     "execution_count": 155,
     "metadata": {},
     "output_type": "execute_result"
    }
   ],
   "source": [
    "titanic_maxabs = titanic_normal.copy() \n",
    "titanic_new_maxabs = titanic_new_normal.copy() \n",
    "\n",
    "titanic_maxabs = norm_MaxABS(titanic_maxabs)\n",
    "titanic_new_maxabs = norm_MaxABS(titanic_new_maxabs)\n",
    "titanic_maxabs.head()"
   ]
  },
  {
   "cell_type": "markdown",
   "id": "5216c20b",
   "metadata": {},
   "source": [
    "## 2. Comparación "
   ]
  },
  {
   "cell_type": "code",
   "execution_count": 160,
   "id": "afeaf695",
   "metadata": {},
   "outputs": [],
   "source": [
    "def comparador(df1, df2):\n",
    "    datafr = pd.DataFrame()\n",
    "    \n",
    "    datafr[\"Age_real\"] = df1[[\"Age_z\"]]\n",
    "    datafr[\"Age_md\"] = df2[[\"Age_z\"]]\n",
    "    \n",
    "    datafr[\"SibSp_real\"] = df1[[\"SibSp_z\"]]\n",
    "    datafr[\"SibSp_md\"] = df2[[\"SibSp_z\"]]\n",
    "    \n",
    "    datafr[\"Parch_real\"] = df1[[\"Parch_z\"]]\n",
    "    datafr[\"Parch_md\"] = df2[[\"Parch_z\"]]\n",
    "    \n",
    "    datafr[\"Fare_real\"] = df1[[\"Fare_z\"]]\n",
    "    datafr[\"Fare_md\"] = df2[[\"Fare_z\"]]\n",
    "    \n",
    "    return datafr"
   ]
  },
  {
   "cell_type": "markdown",
   "id": "dfcf9a13",
   "metadata": {},
   "source": [
    "### A continuación se comparará la data normizalada real con la data normizada que fue inputada con cada método, para saber cuál es mejor para un modelo."
   ]
  },
  {
   "cell_type": "code",
   "execution_count": 161,
   "id": "066ba6da",
   "metadata": {},
   "outputs": [
    {
     "data": {
      "text/html": [
       "<div>\n",
       "<style scoped>\n",
       "    .dataframe tbody tr th:only-of-type {\n",
       "        vertical-align: middle;\n",
       "    }\n",
       "\n",
       "    .dataframe tbody tr th {\n",
       "        vertical-align: top;\n",
       "    }\n",
       "\n",
       "    .dataframe thead th {\n",
       "        text-align: right;\n",
       "    }\n",
       "</style>\n",
       "<table border=\"1\" class=\"dataframe\">\n",
       "  <thead>\n",
       "    <tr style=\"text-align: right;\">\n",
       "      <th></th>\n",
       "      <th>Age_real</th>\n",
       "      <th>Age_md</th>\n",
       "      <th>SibSp_real</th>\n",
       "      <th>SibSp_md</th>\n",
       "      <th>Parch_real</th>\n",
       "      <th>Parch_md</th>\n",
       "      <th>Fare_real</th>\n",
       "      <th>Fare_md</th>\n",
       "    </tr>\n",
       "  </thead>\n",
       "  <tbody>\n",
       "    <tr>\n",
       "      <th>count</th>\n",
       "      <td>1.830000e+02</td>\n",
       "      <td>1.830000e+02</td>\n",
       "      <td>1.830000e+02</td>\n",
       "      <td>1.830000e+02</td>\n",
       "      <td>1.830000e+02</td>\n",
       "      <td>1.830000e+02</td>\n",
       "      <td>1.830000e+02</td>\n",
       "      <td>1.830000e+02</td>\n",
       "    </tr>\n",
       "    <tr>\n",
       "      <th>mean</th>\n",
       "      <td>-1.650168e-16</td>\n",
       "      <td>1.698702e-16</td>\n",
       "      <td>-1.456030e-17</td>\n",
       "      <td>-1.456030e-17</td>\n",
       "      <td>3.882747e-17</td>\n",
       "      <td>3.882747e-17</td>\n",
       "      <td>1.140557e-16</td>\n",
       "      <td>1.917106e-16</td>\n",
       "    </tr>\n",
       "    <tr>\n",
       "      <th>std</th>\n",
       "      <td>1.002743e+00</td>\n",
       "      <td>1.002743e+00</td>\n",
       "      <td>1.002743e+00</td>\n",
       "      <td>1.002743e+00</td>\n",
       "      <td>1.002743e+00</td>\n",
       "      <td>1.002743e+00</td>\n",
       "      <td>1.002743e+00</td>\n",
       "      <td>1.002743e+00</td>\n",
       "    </tr>\n",
       "    <tr>\n",
       "      <th>min</th>\n",
       "      <td>-2.227696e+00</td>\n",
       "      <td>-2.293553e+00</td>\n",
       "      <td>-7.230443e-01</td>\n",
       "      <td>-7.067991e-01</td>\n",
       "      <td>-6.317298e-01</td>\n",
       "      <td>-5.942743e-01</td>\n",
       "      <td>-1.033406e+00</td>\n",
       "      <td>-1.033399e+00</td>\n",
       "    </tr>\n",
       "    <tr>\n",
       "      <th>25%</th>\n",
       "      <td>-7.483096e-01</td>\n",
       "      <td>-7.433772e-01</td>\n",
       "      <td>-7.230443e-01</td>\n",
       "      <td>-7.067991e-01</td>\n",
       "      <td>-6.317298e-01</td>\n",
       "      <td>-5.942743e-01</td>\n",
       "      <td>-6.433299e-01</td>\n",
       "      <td>-6.397281e-01</td>\n",
       "    </tr>\n",
       "    <tr>\n",
       "      <th>50%</th>\n",
       "      <td>2.086869e-02</td>\n",
       "      <td>-7.172378e-02</td>\n",
       "      <td>-7.230443e-01</td>\n",
       "      <td>-7.067991e-01</td>\n",
       "      <td>-6.317298e-01</td>\n",
       "      <td>-5.942743e-01</td>\n",
       "      <td>-2.847750e-01</td>\n",
       "      <td>-2.648900e-01</td>\n",
       "    </tr>\n",
       "    <tr>\n",
       "      <th>75%</th>\n",
       "      <td>7.579979e-01</td>\n",
       "      <td>7.678430e-01</td>\n",
       "      <td>8.336275e-01</td>\n",
       "      <td>8.515651e-01</td>\n",
       "      <td>6.970812e-01</td>\n",
       "      <td>7.651281e-01</td>\n",
       "      <td>1.486431e-01</td>\n",
       "      <td>1.595426e-01</td>\n",
       "    </tr>\n",
       "    <tr>\n",
       "      <th>max</th>\n",
       "      <td>2.841189e+00</td>\n",
       "      <td>3.017882e+00</td>\n",
       "      <td>3.946971e+00</td>\n",
       "      <td>3.968293e+00</td>\n",
       "      <td>4.683514e+00</td>\n",
       "      <td>4.843335e+00</td>\n",
       "      <td>5.695465e+00</td>\n",
       "      <td>5.757476e+00</td>\n",
       "    </tr>\n",
       "  </tbody>\n",
       "</table>\n",
       "</div>"
      ],
      "text/plain": [
       "           Age_real        Age_md    SibSp_real      SibSp_md    Parch_real  \\\n",
       "count  1.830000e+02  1.830000e+02  1.830000e+02  1.830000e+02  1.830000e+02   \n",
       "mean  -1.650168e-16  1.698702e-16 -1.456030e-17 -1.456030e-17  3.882747e-17   \n",
       "std    1.002743e+00  1.002743e+00  1.002743e+00  1.002743e+00  1.002743e+00   \n",
       "min   -2.227696e+00 -2.293553e+00 -7.230443e-01 -7.067991e-01 -6.317298e-01   \n",
       "25%   -7.483096e-01 -7.433772e-01 -7.230443e-01 -7.067991e-01 -6.317298e-01   \n",
       "50%    2.086869e-02 -7.172378e-02 -7.230443e-01 -7.067991e-01 -6.317298e-01   \n",
       "75%    7.579979e-01  7.678430e-01  8.336275e-01  8.515651e-01  6.970812e-01   \n",
       "max    2.841189e+00  3.017882e+00  3.946971e+00  3.968293e+00  4.683514e+00   \n",
       "\n",
       "           Parch_md     Fare_real       Fare_md  \n",
       "count  1.830000e+02  1.830000e+02  1.830000e+02  \n",
       "mean   3.882747e-17  1.140557e-16  1.917106e-16  \n",
       "std    1.002743e+00  1.002743e+00  1.002743e+00  \n",
       "min   -5.942743e-01 -1.033406e+00 -1.033399e+00  \n",
       "25%   -5.942743e-01 -6.433299e-01 -6.397281e-01  \n",
       "50%   -5.942743e-01 -2.847750e-01 -2.648900e-01  \n",
       "75%    7.651281e-01  1.486431e-01  1.595426e-01  \n",
       "max    4.843335e+00  5.695465e+00  5.757476e+00  "
      ]
     },
     "execution_count": 161,
     "metadata": {},
     "output_type": "execute_result"
    }
   ],
   "source": [
    "comparador(titanic_Standar, titanic_new_Standar).describe()"
   ]
  },
  {
   "cell_type": "code",
   "execution_count": 163,
   "id": "de37861b",
   "metadata": {},
   "outputs": [
    {
     "data": {
      "text/html": [
       "<div>\n",
       "<style scoped>\n",
       "    .dataframe tbody tr th:only-of-type {\n",
       "        vertical-align: middle;\n",
       "    }\n",
       "\n",
       "    .dataframe tbody tr th {\n",
       "        vertical-align: top;\n",
       "    }\n",
       "\n",
       "    .dataframe thead th {\n",
       "        text-align: right;\n",
       "    }\n",
       "</style>\n",
       "<table border=\"1\" class=\"dataframe\">\n",
       "  <thead>\n",
       "    <tr style=\"text-align: right;\">\n",
       "      <th></th>\n",
       "      <th>Age_real</th>\n",
       "      <th>Age_md</th>\n",
       "      <th>SibSp_real</th>\n",
       "      <th>SibSp_md</th>\n",
       "      <th>Parch_real</th>\n",
       "      <th>Parch_md</th>\n",
       "      <th>Fare_real</th>\n",
       "      <th>Fare_md</th>\n",
       "    </tr>\n",
       "  </thead>\n",
       "  <tbody>\n",
       "    <tr>\n",
       "      <th>count</th>\n",
       "      <td>183.000000</td>\n",
       "      <td>183.000000</td>\n",
       "      <td>183.000000</td>\n",
       "      <td>183.000000</td>\n",
       "      <td>183.000000</td>\n",
       "      <td>183.000000</td>\n",
       "      <td>183.000000</td>\n",
       "      <td>183.000000</td>\n",
       "    </tr>\n",
       "    <tr>\n",
       "      <th>mean</th>\n",
       "      <td>0.439484</td>\n",
       "      <td>0.431814</td>\n",
       "      <td>0.154827</td>\n",
       "      <td>0.151184</td>\n",
       "      <td>0.118852</td>\n",
       "      <td>0.109290</td>\n",
       "      <td>0.153578</td>\n",
       "      <td>0.152175</td>\n",
       "    </tr>\n",
       "    <tr>\n",
       "      <th>std</th>\n",
       "      <td>0.197823</td>\n",
       "      <td>0.188790</td>\n",
       "      <td>0.214720</td>\n",
       "      <td>0.214486</td>\n",
       "      <td>0.188654</td>\n",
       "      <td>0.184409</td>\n",
       "      <td>0.149021</td>\n",
       "      <td>0.147660</td>\n",
       "    </tr>\n",
       "    <tr>\n",
       "      <th>min</th>\n",
       "      <td>0.000000</td>\n",
       "      <td>0.000000</td>\n",
       "      <td>0.000000</td>\n",
       "      <td>0.000000</td>\n",
       "      <td>0.000000</td>\n",
       "      <td>0.000000</td>\n",
       "      <td>0.000000</td>\n",
       "      <td>0.000000</td>\n",
       "    </tr>\n",
       "    <tr>\n",
       "      <th>25%</th>\n",
       "      <td>0.291856</td>\n",
       "      <td>0.291856</td>\n",
       "      <td>0.000000</td>\n",
       "      <td>0.000000</td>\n",
       "      <td>0.000000</td>\n",
       "      <td>0.000000</td>\n",
       "      <td>0.057971</td>\n",
       "      <td>0.057971</td>\n",
       "    </tr>\n",
       "    <tr>\n",
       "      <th>50%</th>\n",
       "      <td>0.443601</td>\n",
       "      <td>0.418311</td>\n",
       "      <td>0.000000</td>\n",
       "      <td>0.000000</td>\n",
       "      <td>0.000000</td>\n",
       "      <td>0.000000</td>\n",
       "      <td>0.111257</td>\n",
       "      <td>0.113168</td>\n",
       "    </tr>\n",
       "    <tr>\n",
       "      <th>75%</th>\n",
       "      <td>0.589024</td>\n",
       "      <td>0.576378</td>\n",
       "      <td>0.333333</td>\n",
       "      <td>0.333333</td>\n",
       "      <td>0.250000</td>\n",
       "      <td>0.250000</td>\n",
       "      <td>0.175668</td>\n",
       "      <td>0.175668</td>\n",
       "    </tr>\n",
       "    <tr>\n",
       "      <th>max</th>\n",
       "      <td>1.000000</td>\n",
       "      <td>1.000000</td>\n",
       "      <td>1.000000</td>\n",
       "      <td>1.000000</td>\n",
       "      <td>1.000000</td>\n",
       "      <td>1.000000</td>\n",
       "      <td>1.000000</td>\n",
       "      <td>1.000000</td>\n",
       "    </tr>\n",
       "  </tbody>\n",
       "</table>\n",
       "</div>"
      ],
      "text/plain": [
       "         Age_real      Age_md  SibSp_real    SibSp_md  Parch_real    Parch_md  \\\n",
       "count  183.000000  183.000000  183.000000  183.000000  183.000000  183.000000   \n",
       "mean     0.439484    0.431814    0.154827    0.151184    0.118852    0.109290   \n",
       "std      0.197823    0.188790    0.214720    0.214486    0.188654    0.184409   \n",
       "min      0.000000    0.000000    0.000000    0.000000    0.000000    0.000000   \n",
       "25%      0.291856    0.291856    0.000000    0.000000    0.000000    0.000000   \n",
       "50%      0.443601    0.418311    0.000000    0.000000    0.000000    0.000000   \n",
       "75%      0.589024    0.576378    0.333333    0.333333    0.250000    0.250000   \n",
       "max      1.000000    1.000000    1.000000    1.000000    1.000000    1.000000   \n",
       "\n",
       "        Fare_real     Fare_md  \n",
       "count  183.000000  183.000000  \n",
       "mean     0.153578    0.152175  \n",
       "std      0.149021    0.147660  \n",
       "min      0.000000    0.000000  \n",
       "25%      0.057971    0.057971  \n",
       "50%      0.111257    0.113168  \n",
       "75%      0.175668    0.175668  \n",
       "max      1.000000    1.000000  "
      ]
     },
     "execution_count": 163,
     "metadata": {},
     "output_type": "execute_result"
    }
   ],
   "source": [
    "comparador(titanic_minmax, titanic_new_minmax).describe()"
   ]
  },
  {
   "cell_type": "code",
   "execution_count": 162,
   "id": "9b1f340e",
   "metadata": {},
   "outputs": [
    {
     "data": {
      "text/html": [
       "<div>\n",
       "<style scoped>\n",
       "    .dataframe tbody tr th:only-of-type {\n",
       "        vertical-align: middle;\n",
       "    }\n",
       "\n",
       "    .dataframe tbody tr th {\n",
       "        vertical-align: top;\n",
       "    }\n",
       "\n",
       "    .dataframe thead th {\n",
       "        text-align: right;\n",
       "    }\n",
       "</style>\n",
       "<table border=\"1\" class=\"dataframe\">\n",
       "  <thead>\n",
       "    <tr style=\"text-align: right;\">\n",
       "      <th></th>\n",
       "      <th>Age_real</th>\n",
       "      <th>Age_md</th>\n",
       "      <th>SibSp_real</th>\n",
       "      <th>SibSp_md</th>\n",
       "      <th>Parch_real</th>\n",
       "      <th>Parch_md</th>\n",
       "      <th>Fare_real</th>\n",
       "      <th>Fare_md</th>\n",
       "    </tr>\n",
       "  </thead>\n",
       "  <tbody>\n",
       "    <tr>\n",
       "      <th>count</th>\n",
       "      <td>183.000000</td>\n",
       "      <td>183.000000</td>\n",
       "      <td>183.000000</td>\n",
       "      <td>183.000000</td>\n",
       "      <td>183.000000</td>\n",
       "      <td>183.000000</td>\n",
       "      <td>183.000000</td>\n",
       "      <td>183.000000</td>\n",
       "    </tr>\n",
       "    <tr>\n",
       "      <th>mean</th>\n",
       "      <td>0.445930</td>\n",
       "      <td>0.438348</td>\n",
       "      <td>0.154827</td>\n",
       "      <td>0.151184</td>\n",
       "      <td>0.118852</td>\n",
       "      <td>0.109290</td>\n",
       "      <td>0.153578</td>\n",
       "      <td>0.152175</td>\n",
       "    </tr>\n",
       "    <tr>\n",
       "      <th>std</th>\n",
       "      <td>0.195548</td>\n",
       "      <td>0.186618</td>\n",
       "      <td>0.214720</td>\n",
       "      <td>0.214486</td>\n",
       "      <td>0.188654</td>\n",
       "      <td>0.184409</td>\n",
       "      <td>0.149021</td>\n",
       "      <td>0.147660</td>\n",
       "    </tr>\n",
       "    <tr>\n",
       "      <th>min</th>\n",
       "      <td>0.011500</td>\n",
       "      <td>0.011500</td>\n",
       "      <td>0.000000</td>\n",
       "      <td>0.000000</td>\n",
       "      <td>0.000000</td>\n",
       "      <td>0.000000</td>\n",
       "      <td>0.000000</td>\n",
       "      <td>0.000000</td>\n",
       "    </tr>\n",
       "    <tr>\n",
       "      <th>25%</th>\n",
       "      <td>0.300000</td>\n",
       "      <td>0.300000</td>\n",
       "      <td>0.000000</td>\n",
       "      <td>0.000000</td>\n",
       "      <td>0.000000</td>\n",
       "      <td>0.000000</td>\n",
       "      <td>0.057971</td>\n",
       "      <td>0.057971</td>\n",
       "    </tr>\n",
       "    <tr>\n",
       "      <th>50%</th>\n",
       "      <td>0.450000</td>\n",
       "      <td>0.425000</td>\n",
       "      <td>0.000000</td>\n",
       "      <td>0.000000</td>\n",
       "      <td>0.000000</td>\n",
       "      <td>0.000000</td>\n",
       "      <td>0.111257</td>\n",
       "      <td>0.113168</td>\n",
       "    </tr>\n",
       "    <tr>\n",
       "      <th>75%</th>\n",
       "      <td>0.593750</td>\n",
       "      <td>0.581250</td>\n",
       "      <td>0.333333</td>\n",
       "      <td>0.333333</td>\n",
       "      <td>0.250000</td>\n",
       "      <td>0.250000</td>\n",
       "      <td>0.175668</td>\n",
       "      <td>0.175668</td>\n",
       "    </tr>\n",
       "    <tr>\n",
       "      <th>max</th>\n",
       "      <td>1.000000</td>\n",
       "      <td>1.000000</td>\n",
       "      <td>1.000000</td>\n",
       "      <td>1.000000</td>\n",
       "      <td>1.000000</td>\n",
       "      <td>1.000000</td>\n",
       "      <td>1.000000</td>\n",
       "      <td>1.000000</td>\n",
       "    </tr>\n",
       "  </tbody>\n",
       "</table>\n",
       "</div>"
      ],
      "text/plain": [
       "         Age_real      Age_md  SibSp_real    SibSp_md  Parch_real    Parch_md  \\\n",
       "count  183.000000  183.000000  183.000000  183.000000  183.000000  183.000000   \n",
       "mean     0.445930    0.438348    0.154827    0.151184    0.118852    0.109290   \n",
       "std      0.195548    0.186618    0.214720    0.214486    0.188654    0.184409   \n",
       "min      0.011500    0.011500    0.000000    0.000000    0.000000    0.000000   \n",
       "25%      0.300000    0.300000    0.000000    0.000000    0.000000    0.000000   \n",
       "50%      0.450000    0.425000    0.000000    0.000000    0.000000    0.000000   \n",
       "75%      0.593750    0.581250    0.333333    0.333333    0.250000    0.250000   \n",
       "max      1.000000    1.000000    1.000000    1.000000    1.000000    1.000000   \n",
       "\n",
       "        Fare_real     Fare_md  \n",
       "count  183.000000  183.000000  \n",
       "mean     0.153578    0.152175  \n",
       "std      0.149021    0.147660  \n",
       "min      0.000000    0.000000  \n",
       "25%      0.057971    0.057971  \n",
       "50%      0.111257    0.113168  \n",
       "75%      0.175668    0.175668  \n",
       "max      1.000000    1.000000  "
      ]
     },
     "execution_count": 162,
     "metadata": {},
     "output_type": "execute_result"
    }
   ],
   "source": [
    "comparador(titanic_maxabs, titanic_new_maxabs).describe()"
   ]
  },
  {
   "cell_type": "markdown",
   "id": "3c5d2b12",
   "metadata": {},
   "source": [
    "\n",
    "#### Los estadísticos que se consideraron para el análisis son: desviación estandar y media. Además, se vio que tan apropiada es cada normalización para entrenar un modelo económetrico y de machine learning.\n",
    "\n",
    "\n",
    "### Standarizacion\n",
    "#### La media y la desviación estandar de la data real y la data imputada con este método de normalización es muy parecida. El único problema es la media de edad fue negativa para la data real mientras que para la data imputada fue positiva. Este puede ser un problema muy grande para entrenar un modelo porque puede cambiar su precisión completamente. Dejando de lado la media negativa, también, es menos recomendable para entrenar un modelo de machine learning, porque esta diferencia de signo (cuando la toda la data es positiva) puede afectar la minimización del error en el modelo y se tardaría más iteraciones en minimizar el error. En el caso de un modelo econométrico esto no afectaría y sí funcionaría hacer normalización estandar. \n",
    "\n",
    "### MinMaxScaling\n",
    "#### Esta normalización covierte a todos los datos entre 0 y 1. A partir del valor mínimo y máximo de cada columna. Para estos datos funcionó muy bien. La media y la desviación estandar entre la data real y la data imputada son bastante parecidos entre sí. Y no se encuentra el error de la standarización donde el media de la edad es negativa para la data real normalizada. Es recomendable utilizar para machine learning porque reduce las interaciones para minimizar el error en el modelo.  \n",
    "\n",
    "### MaxAbsScaling \n",
    "#### Es muy similar al MinMaxScaling pero normaliza en un rango más corto, divide todo la columna entre el valor máximo absoluto de esa columna lo que hace que el resto de valores sean una proporción del valor absoluto más grande. Funciona mejor que la normalización como preparación para un modelo de machine learning, pero existe el riesgo de que el valor máximo absoluto sean negativo por lo tanto puede incluir valores en la normalización y alagar el proceso del minimización de error del modelo. Por otro lado, la media y la desviación de la data real y la data imputada es muy parecida con este método. \n",
    "\n",
    "\n",
    "## CONCLUSIÓN \n",
    "\n",
    "### El mejor método de normalización para entrenar un modelo de machine learning es MinMaxScaling. En el caso que existan datos muy dispersos para su entrenamiento es más fácil reducir el error del modelo (se hace en menos pasos). Y para modelos econométricos depende de la distribución y comportamiento de la data, en el caso su distribución parezca normal se recomienda usar estandarización y para otros compotamientos como el exponencial normalización logaritmica.\n"
   ]
  }
 ],
 "metadata": {
  "kernelspec": {
   "display_name": "Python 3 (ipykernel)",
   "language": "python",
   "name": "python3"
  },
  "language_info": {
   "codemirror_mode": {
    "name": "ipython",
    "version": 3
   },
   "file_extension": ".py",
   "mimetype": "text/x-python",
   "name": "python",
   "nbconvert_exporter": "python",
   "pygments_lexer": "ipython3",
   "version": "3.10.4"
  }
 },
 "nbformat": 4,
 "nbformat_minor": 5
}
