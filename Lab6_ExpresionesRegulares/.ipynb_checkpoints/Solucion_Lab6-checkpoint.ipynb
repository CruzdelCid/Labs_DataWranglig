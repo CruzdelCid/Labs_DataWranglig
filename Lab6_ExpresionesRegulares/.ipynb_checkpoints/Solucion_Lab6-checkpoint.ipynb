{
 "cells": [
  {
   "cell_type": "markdown",
   "id": "fef87505",
   "metadata": {},
   "source": [
    "# Laboratorio 6"
   ]
  },
  {
   "cell_type": "code",
   "execution_count": 3,
   "id": "9eb2a14f",
   "metadata": {},
   "outputs": [],
   "source": [
    "import re"
   ]
  },
  {
   "cell_type": "code",
   "execution_count": 27,
   "id": "2fcbd517",
   "metadata": {},
   "outputs": [
    {
     "data": {
      "text/plain": [
       "['P532FNV', 'P889GVC']"
      ]
     },
     "execution_count": 27,
     "metadata": {},
     "output_type": "execute_result"
    }
   ],
   "source": [
    "# 1. Placas de vehículo particular  guatemalteco\n",
    "# P 3 numeros 3 Consonates mayusculas \n",
    "string = \"P849XBQS P532FNV P889AVC P889GVC\"\n",
    "pattern = r\"\\bP\\d{3}[B-D,F-H,J-N,P-T,V-Z]{3}\\b\"\n",
    "re.findall(pattern, string)"
   ]
  },
  {
   "cell_type": "code",
   "execution_count": 93,
   "id": "a9e16bcd",
   "metadata": {},
   "outputs": [
    {
     "data": {
      "text/plain": [
       "['Ejemplo1.pdf', 'prueba2.PDF', 'respuestas_del_examen.jpg', 'amor.JPG']"
      ]
     },
     "execution_count": 93,
     "metadata": {},
     "output_type": "execute_result"
    }
   ],
   "source": [
    "# 2. Indentificar archivos pdf y jpg\n",
    "string = \"Ejemplo1.pdf, prueba2.PDF, respuestas_del_examen.jpg, amor.JPG\"\n",
    "pattern = r\"([A-z,0-9]+\\.jpg|[A-z,0-9]+\\.pdf|[A-z,0-9]+\\.PDF|[A-z,0-9]+\\.JPG)\"\n",
    "re.findall(pattern, string)"
   ]
  },
  {
   "cell_type": "code",
   "execution_count": null,
   "id": "e30b5a02",
   "metadata": {},
   "outputs": [],
   "source": [
    "# 3. Contraseña  \n",
    "string = \"\"\n",
    "pattern = r\"\"\n",
    "re.findall(pattern, string)"
   ]
  },
  {
   "cell_type": "code",
   "execution_count": 8,
   "id": "d6385b01",
   "metadata": {},
   "outputs": [
    {
     "data": {
      "text/plain": [
       "[('19002324', '19', '00', '2324'),\n",
       " ('21001354', '21', '00', '1354'),\n",
       " ('24006354', '24', '00', '6354')]"
      ]
     },
     "execution_count": 8,
     "metadata": {},
     "output_type": "execute_result"
    }
   ],
   "source": [
    "# 4. Carnet de la universidad Galileo    \n",
    "string = \"19002324 21001354 24006354\"\n",
    "pattern = r\"((0[1-9]|1[0-9]|2[1-9]|30)(00)(1[1-9][1-9][0-9]|[2-7][0-9][0-9][0-9]|8[0-9][0-6][0-9]|8970))\"\n",
    "re.findall(pattern, string)"
   ]
  },
  {
   "cell_type": "code",
   "execution_count": 16,
   "id": "fff4a2ed",
   "metadata": {},
   "outputs": [
    {
     "data": {
      "text/plain": [
       "['pit', 'spot', 'spate', 'slap two', 'respite']"
      ]
     },
     "execution_count": 16,
     "metadata": {},
     "output_type": "execute_result"
    }
   ],
   "source": [
    "# 5. Palabras    \n",
    "string = \"pit, spot, spate, slap two, respite\"\n",
    "pattern = r\"\\b(pit|spot|spate|slap\\stwo|respite)\\b\"\n",
    "re.findall(pattern, string)"
   ]
  },
  {
   "cell_type": "code",
   "execution_count": 13,
   "id": "c55963d1",
   "metadata": {},
   "outputs": [
    {
     "data": {
      "text/plain": [
       "[]"
      ]
     },
     "execution_count": 13,
     "metadata": {},
     "output_type": "execute_result"
    }
   ],
   "source": [
    "string = \"pt, Pot, peat, part\"\n",
    "re.findall(pattern, string)"
   ]
  },
  {
   "cell_type": "code",
   "execution_count": 35,
   "id": "032aff17",
   "metadata": {},
   "outputs": [
    {
     "data": {
      "text/plain": [
       "[('50254821151', '502', '5', ''),\n",
       " ('4210-7640', '', '4', '-'),\n",
       " ('52018150', '', '5', ''),\n",
       " ('2434 6854', '', '2', ' ')]"
      ]
     },
     "execution_count": 35,
     "metadata": {},
     "output_type": "execute_result"
    }
   ],
   "source": [
    "# 6. Numeros telefonicos de guatemala        \n",
    "string = \"\"\"+50254821151, 4210-7640, 52018150, \n",
    "            2434 6854, 11234569, 50211234578\"\"\"\n",
    "pattern = r\"\\b((\\+502|502|)(2|4|5|6)\\d{3}(\\s|\\-|)\\d{4})\\b\"\n",
    "re.findall(pattern, string)"
   ]
  },
  {
   "cell_type": "code",
   "execution_count": 52,
   "id": "f296e818",
   "metadata": {},
   "outputs": [
    {
     "data": {
      "text/plain": [
       "['cldelcid@ufm.edu', 'danielbehar@ufm.edu', 'abc1@ufm.edu']"
      ]
     },
     "execution_count": 52,
     "metadata": {},
     "output_type": "execute_result"
    }
   ],
   "source": [
    "# 7. Correos UFM        \n",
    "string = \"cldelcid@ufm.edu danielbehar@ufm.edu abc1@ufm.edu\"\n",
    "pattern = r\"\\b(\\w+@ufm\\.edu)\\b\"\n",
    "re.findall(pattern, string)"
   ]
  },
  {
   "cell_type": "code",
   "execution_count": null,
   "id": "6a26e06b",
   "metadata": {},
   "outputs": [],
   "source": []
  }
 ],
 "metadata": {
  "kernelspec": {
   "display_name": "Python 3 (ipykernel)",
   "language": "python",
   "name": "python3"
  },
  "language_info": {
   "codemirror_mode": {
    "name": "ipython",
    "version": 3
   },
   "file_extension": ".py",
   "mimetype": "text/x-python",
   "name": "python",
   "nbconvert_exporter": "python",
   "pygments_lexer": "ipython3",
   "version": "3.7.13"
  }
 },
 "nbformat": 4,
 "nbformat_minor": 5
}
